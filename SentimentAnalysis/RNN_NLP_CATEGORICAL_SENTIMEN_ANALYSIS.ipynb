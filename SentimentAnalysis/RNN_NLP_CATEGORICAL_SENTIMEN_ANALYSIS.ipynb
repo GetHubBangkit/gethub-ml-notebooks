{
  "cells": [
    {
      "cell_type": "markdown",
      "metadata": {
        "id": "vo_dI5h6OdHc"
      },
      "source": [
        "# **IMPORTS**"
      ]
    },
    {
      "cell_type": "code",
      "execution_count": null,
      "metadata": {
        "id": "H5kJBZfy5JEP"
      },
      "outputs": [],
      "source": [
        "import pandas as pd\n",
        "import numpy as np\n",
        "import tensorflow as tf\n",
        "from tensorflow.keras.preprocessing.text import Tokenizer\n",
        "from tensorflow.keras.preprocessing.sequence import pad_sequences\n",
        "import nltk\n",
        "\n",
        "OOV_TOKEN = \"<OOV>\""
      ]
    },
    {
      "cell_type": "code",
      "execution_count": null,
      "metadata": {
        "id": "OaF32RwnqQV9"
      },
      "outputs": [],
      "source": [
        "df = pd.read_csv(\"https://raw.githubusercontent.com/EstiAsmareta/dataset-sentimen-analisis/main/Book1.csv\", encoding='latin1')\n",
        "df.head()"
      ]
    },
    {
      "cell_type": "code",
      "execution_count": null,
      "metadata": {
        "id": "nzwHQbBzoUyG"
      },
      "outputs": [],
      "source": [
        "df = df.rename(columns={'komentar': 'sentences'})\n",
        "df = df.rename(columns={'labels': 'label'})"
      ]
    },
    {
      "cell_type": "code",
      "execution_count": null,
      "metadata": {
        "id": "sdb8zzhZvvkR"
      },
      "outputs": [],
      "source": [
        "df.head()"
      ]
    },
    {
      "cell_type": "code",
      "execution_count": null,
      "metadata": {
        "id": "AyeyHpysodQZ"
      },
      "outputs": [],
      "source": [
        "df_lain = pd.read_csv(\"https://raw.githubusercontent.com/ShinyQ/Analisis-Sentimen-Aplikasi-Dompet-Digital-Indonesia-Menggunakan-Metode-CNN-LSTM/main/data/classifiedV1/dana_cs.csv\")\n",
        "df_lain.head()"
      ]
    },
    {
      "cell_type": "code",
      "execution_count": null,
      "metadata": {
        "id": "mz3AZO8NoqvU"
      },
      "outputs": [],
      "source": [
        "df_lain = df_lain.rename(columns={'predict': 'label'})\n",
        "df_lain = df_lain.rename(columns={'raw': 'sentences'})\n",
        "\n",
        "df_lain.head()"
      ]
    },
    {
      "cell_type": "code",
      "execution_count": null,
      "metadata": {
        "id": "ZmF_mdaLISnE"
      },
      "outputs": [],
      "source": [
        "df_lain.count()"
      ]
    },
    {
      "cell_type": "code",
      "execution_count": null,
      "metadata": {
        "id": "ELP-LIVwFyjE"
      },
      "outputs": [],
      "source": [
        "df_lain1 = pd.read_csv(\"https://raw.githubusercontent.com/wandalistathea/analisis_sentimen_tokopedia/main/Data%20Oke%20Setelah%20Di-Stemming%20(Masing2%203k).csv\")\n",
        "df_lain1.head()"
      ]
    },
    {
      "cell_type": "code",
      "execution_count": null,
      "metadata": {
        "id": "nZqv9290e2-R"
      },
      "outputs": [],
      "source": [
        "df_lain1['label'] = df_lain1['sentimen'].replace({0: -1})\n",
        "print(df_lain1)"
      ]
    },
    {
      "cell_type": "code",
      "execution_count": null,
      "metadata": {
        "id": "e5ZAqR5HGUot"
      },
      "outputs": [],
      "source": [
        "df_lain1 = pd.DataFrame(df_lain1)\n",
        "df_lain1 = df_lain1.rename(columns={'content':'sentences'})\n",
        "df_lain1.columns"
      ]
    },
    {
      "cell_type": "code",
      "execution_count": 17,
      "metadata": {
        "colab": {
          "base_uri": "https://localhost:8080/",
          "height": 206
        },
        "id": "L8mio79x2Xxv",
        "outputId": "4256faca-b05e-44aa-c6f1-3c33cea45aa2"
      },
      "outputs": [
        {
          "output_type": "execute_result",
          "data": {
            "text/plain": [
              "   project_ending  rating                                       text  \\\n",
              "0       Completed     NaN                        Terimakasih banyak.   \n",
              "1  Self Mediation     NaN                                        NaN   \n",
              "2       Completed     NaN           Selalu keren hasil pekerjaannya.   \n",
              "3       Completed     NaN   Selalu puas dengan hasil pekerjaannya...   \n",
              "4       Completed     NaN  Mantap! Perkerjaannya cepat dan memuaskan   \n",
              "\n",
              "   sentiment  \n",
              "0          1  \n",
              "1          1  \n",
              "2          1  \n",
              "3          1  \n",
              "4          1  "
            ],
            "text/html": [
              "\n",
              "  <div id=\"df-3802a4aa-0cd6-46a3-a138-9dd29611cb94\" class=\"colab-df-container\">\n",
              "    <div>\n",
              "<style scoped>\n",
              "    .dataframe tbody tr th:only-of-type {\n",
              "        vertical-align: middle;\n",
              "    }\n",
              "\n",
              "    .dataframe tbody tr th {\n",
              "        vertical-align: top;\n",
              "    }\n",
              "\n",
              "    .dataframe thead th {\n",
              "        text-align: right;\n",
              "    }\n",
              "</style>\n",
              "<table border=\"1\" class=\"dataframe\">\n",
              "  <thead>\n",
              "    <tr style=\"text-align: right;\">\n",
              "      <th></th>\n",
              "      <th>project_ending</th>\n",
              "      <th>rating</th>\n",
              "      <th>text</th>\n",
              "      <th>sentiment</th>\n",
              "    </tr>\n",
              "  </thead>\n",
              "  <tbody>\n",
              "    <tr>\n",
              "      <th>0</th>\n",
              "      <td>Completed</td>\n",
              "      <td>NaN</td>\n",
              "      <td>Terimakasih banyak.</td>\n",
              "      <td>1</td>\n",
              "    </tr>\n",
              "    <tr>\n",
              "      <th>1</th>\n",
              "      <td>Self Mediation</td>\n",
              "      <td>NaN</td>\n",
              "      <td>NaN</td>\n",
              "      <td>1</td>\n",
              "    </tr>\n",
              "    <tr>\n",
              "      <th>2</th>\n",
              "      <td>Completed</td>\n",
              "      <td>NaN</td>\n",
              "      <td>Selalu keren hasil pekerjaannya.</td>\n",
              "      <td>1</td>\n",
              "    </tr>\n",
              "    <tr>\n",
              "      <th>3</th>\n",
              "      <td>Completed</td>\n",
              "      <td>NaN</td>\n",
              "      <td>Selalu puas dengan hasil pekerjaannya...</td>\n",
              "      <td>1</td>\n",
              "    </tr>\n",
              "    <tr>\n",
              "      <th>4</th>\n",
              "      <td>Completed</td>\n",
              "      <td>NaN</td>\n",
              "      <td>Mantap! Perkerjaannya cepat dan memuaskan</td>\n",
              "      <td>1</td>\n",
              "    </tr>\n",
              "  </tbody>\n",
              "</table>\n",
              "</div>\n",
              "    <div class=\"colab-df-buttons\">\n",
              "\n",
              "  <div class=\"colab-df-container\">\n",
              "    <button class=\"colab-df-convert\" onclick=\"convertToInteractive('df-3802a4aa-0cd6-46a3-a138-9dd29611cb94')\"\n",
              "            title=\"Convert this dataframe to an interactive table.\"\n",
              "            style=\"display:none;\">\n",
              "\n",
              "  <svg xmlns=\"http://www.w3.org/2000/svg\" height=\"24px\" viewBox=\"0 -960 960 960\">\n",
              "    <path d=\"M120-120v-720h720v720H120Zm60-500h600v-160H180v160Zm220 220h160v-160H400v160Zm0 220h160v-160H400v160ZM180-400h160v-160H180v160Zm440 0h160v-160H620v160ZM180-180h160v-160H180v160Zm440 0h160v-160H620v160Z\"/>\n",
              "  </svg>\n",
              "    </button>\n",
              "\n",
              "  <style>\n",
              "    .colab-df-container {\n",
              "      display:flex;\n",
              "      gap: 12px;\n",
              "    }\n",
              "\n",
              "    .colab-df-convert {\n",
              "      background-color: #E8F0FE;\n",
              "      border: none;\n",
              "      border-radius: 50%;\n",
              "      cursor: pointer;\n",
              "      display: none;\n",
              "      fill: #1967D2;\n",
              "      height: 32px;\n",
              "      padding: 0 0 0 0;\n",
              "      width: 32px;\n",
              "    }\n",
              "\n",
              "    .colab-df-convert:hover {\n",
              "      background-color: #E2EBFA;\n",
              "      box-shadow: 0px 1px 2px rgba(60, 64, 67, 0.3), 0px 1px 3px 1px rgba(60, 64, 67, 0.15);\n",
              "      fill: #174EA6;\n",
              "    }\n",
              "\n",
              "    .colab-df-buttons div {\n",
              "      margin-bottom: 4px;\n",
              "    }\n",
              "\n",
              "    [theme=dark] .colab-df-convert {\n",
              "      background-color: #3B4455;\n",
              "      fill: #D2E3FC;\n",
              "    }\n",
              "\n",
              "    [theme=dark] .colab-df-convert:hover {\n",
              "      background-color: #434B5C;\n",
              "      box-shadow: 0px 1px 3px 1px rgba(0, 0, 0, 0.15);\n",
              "      filter: drop-shadow(0px 1px 2px rgba(0, 0, 0, 0.3));\n",
              "      fill: #FFFFFF;\n",
              "    }\n",
              "  </style>\n",
              "\n",
              "    <script>\n",
              "      const buttonEl =\n",
              "        document.querySelector('#df-3802a4aa-0cd6-46a3-a138-9dd29611cb94 button.colab-df-convert');\n",
              "      buttonEl.style.display =\n",
              "        google.colab.kernel.accessAllowed ? 'block' : 'none';\n",
              "\n",
              "      async function convertToInteractive(key) {\n",
              "        const element = document.querySelector('#df-3802a4aa-0cd6-46a3-a138-9dd29611cb94');\n",
              "        const dataTable =\n",
              "          await google.colab.kernel.invokeFunction('convertToInteractive',\n",
              "                                                    [key], {});\n",
              "        if (!dataTable) return;\n",
              "\n",
              "        const docLinkHtml = 'Like what you see? Visit the ' +\n",
              "          '<a target=\"_blank\" href=https://colab.research.google.com/notebooks/data_table.ipynb>data table notebook</a>'\n",
              "          + ' to learn more about interactive tables.';\n",
              "        element.innerHTML = '';\n",
              "        dataTable['output_type'] = 'display_data';\n",
              "        await google.colab.output.renderOutput(dataTable, element);\n",
              "        const docLink = document.createElement('div');\n",
              "        docLink.innerHTML = docLinkHtml;\n",
              "        element.appendChild(docLink);\n",
              "      }\n",
              "    </script>\n",
              "  </div>\n",
              "\n",
              "\n",
              "<div id=\"df-37eb09ee-0eb5-4248-a324-f3c396ef110d\">\n",
              "  <button class=\"colab-df-quickchart\" onclick=\"quickchart('df-37eb09ee-0eb5-4248-a324-f3c396ef110d')\"\n",
              "            title=\"Suggest charts\"\n",
              "            style=\"display:none;\">\n",
              "\n",
              "<svg xmlns=\"http://www.w3.org/2000/svg\" height=\"24px\"viewBox=\"0 0 24 24\"\n",
              "     width=\"24px\">\n",
              "    <g>\n",
              "        <path d=\"M19 3H5c-1.1 0-2 .9-2 2v14c0 1.1.9 2 2 2h14c1.1 0 2-.9 2-2V5c0-1.1-.9-2-2-2zM9 17H7v-7h2v7zm4 0h-2V7h2v10zm4 0h-2v-4h2v4z\"/>\n",
              "    </g>\n",
              "</svg>\n",
              "  </button>\n",
              "\n",
              "<style>\n",
              "  .colab-df-quickchart {\n",
              "      --bg-color: #E8F0FE;\n",
              "      --fill-color: #1967D2;\n",
              "      --hover-bg-color: #E2EBFA;\n",
              "      --hover-fill-color: #174EA6;\n",
              "      --disabled-fill-color: #AAA;\n",
              "      --disabled-bg-color: #DDD;\n",
              "  }\n",
              "\n",
              "  [theme=dark] .colab-df-quickchart {\n",
              "      --bg-color: #3B4455;\n",
              "      --fill-color: #D2E3FC;\n",
              "      --hover-bg-color: #434B5C;\n",
              "      --hover-fill-color: #FFFFFF;\n",
              "      --disabled-bg-color: #3B4455;\n",
              "      --disabled-fill-color: #666;\n",
              "  }\n",
              "\n",
              "  .colab-df-quickchart {\n",
              "    background-color: var(--bg-color);\n",
              "    border: none;\n",
              "    border-radius: 50%;\n",
              "    cursor: pointer;\n",
              "    display: none;\n",
              "    fill: var(--fill-color);\n",
              "    height: 32px;\n",
              "    padding: 0;\n",
              "    width: 32px;\n",
              "  }\n",
              "\n",
              "  .colab-df-quickchart:hover {\n",
              "    background-color: var(--hover-bg-color);\n",
              "    box-shadow: 0 1px 2px rgba(60, 64, 67, 0.3), 0 1px 3px 1px rgba(60, 64, 67, 0.15);\n",
              "    fill: var(--button-hover-fill-color);\n",
              "  }\n",
              "\n",
              "  .colab-df-quickchart-complete:disabled,\n",
              "  .colab-df-quickchart-complete:disabled:hover {\n",
              "    background-color: var(--disabled-bg-color);\n",
              "    fill: var(--disabled-fill-color);\n",
              "    box-shadow: none;\n",
              "  }\n",
              "\n",
              "  .colab-df-spinner {\n",
              "    border: 2px solid var(--fill-color);\n",
              "    border-color: transparent;\n",
              "    border-bottom-color: var(--fill-color);\n",
              "    animation:\n",
              "      spin 1s steps(1) infinite;\n",
              "  }\n",
              "\n",
              "  @keyframes spin {\n",
              "    0% {\n",
              "      border-color: transparent;\n",
              "      border-bottom-color: var(--fill-color);\n",
              "      border-left-color: var(--fill-color);\n",
              "    }\n",
              "    20% {\n",
              "      border-color: transparent;\n",
              "      border-left-color: var(--fill-color);\n",
              "      border-top-color: var(--fill-color);\n",
              "    }\n",
              "    30% {\n",
              "      border-color: transparent;\n",
              "      border-left-color: var(--fill-color);\n",
              "      border-top-color: var(--fill-color);\n",
              "      border-right-color: var(--fill-color);\n",
              "    }\n",
              "    40% {\n",
              "      border-color: transparent;\n",
              "      border-right-color: var(--fill-color);\n",
              "      border-top-color: var(--fill-color);\n",
              "    }\n",
              "    60% {\n",
              "      border-color: transparent;\n",
              "      border-right-color: var(--fill-color);\n",
              "    }\n",
              "    80% {\n",
              "      border-color: transparent;\n",
              "      border-right-color: var(--fill-color);\n",
              "      border-bottom-color: var(--fill-color);\n",
              "    }\n",
              "    90% {\n",
              "      border-color: transparent;\n",
              "      border-bottom-color: var(--fill-color);\n",
              "    }\n",
              "  }\n",
              "</style>\n",
              "\n",
              "  <script>\n",
              "    async function quickchart(key) {\n",
              "      const quickchartButtonEl =\n",
              "        document.querySelector('#' + key + ' button');\n",
              "      quickchartButtonEl.disabled = true;  // To prevent multiple clicks.\n",
              "      quickchartButtonEl.classList.add('colab-df-spinner');\n",
              "      try {\n",
              "        const charts = await google.colab.kernel.invokeFunction(\n",
              "            'suggestCharts', [key], {});\n",
              "      } catch (error) {\n",
              "        console.error('Error during call to suggestCharts:', error);\n",
              "      }\n",
              "      quickchartButtonEl.classList.remove('colab-df-spinner');\n",
              "      quickchartButtonEl.classList.add('colab-df-quickchart-complete');\n",
              "    }\n",
              "    (() => {\n",
              "      let quickchartButtonEl =\n",
              "        document.querySelector('#df-37eb09ee-0eb5-4248-a324-f3c396ef110d button');\n",
              "      quickchartButtonEl.style.display =\n",
              "        google.colab.kernel.accessAllowed ? 'block' : 'none';\n",
              "    })();\n",
              "  </script>\n",
              "</div>\n",
              "\n",
              "    </div>\n",
              "  </div>\n"
            ],
            "application/vnd.google.colaboratory.intrinsic+json": {
              "type": "dataframe",
              "variable_name": "df_lain2",
              "summary": "{\n  \"name\": \"df_lain2\",\n  \"rows\": 6896,\n  \"fields\": [\n    {\n      \"column\": \"project_ending\",\n      \"properties\": {\n        \"dtype\": \"category\",\n        \"num_unique_values\": 3,\n        \"samples\": [\n          \"Completed\",\n          \"Self Mediation\",\n          \"Arbitrated\"\n        ],\n        \"semantic_type\": \"\",\n        \"description\": \"\"\n      }\n    },\n    {\n      \"column\": \"rating\",\n      \"properties\": {\n        \"dtype\": \"number\",\n        \"std\": null,\n        \"min\": null,\n        \"max\": null,\n        \"num_unique_values\": 0,\n        \"samples\": [],\n        \"semantic_type\": \"\",\n        \"description\": \"\"\n      }\n    },\n    {\n      \"column\": \"text\",\n      \"properties\": {\n        \"dtype\": \"string\",\n        \"num_unique_values\": 4115,\n        \"samples\": [],\n        \"semantic_type\": \"\",\n        \"description\": \"\"\n      }\n    },\n    {\n      \"column\": \"sentiment\",\n      \"properties\": {\n        \"dtype\": \"number\",\n        \"std\": 0,\n        \"min\": 0,\n        \"max\": 2,\n        \"num_unique_values\": 3,\n        \"samples\": [],\n        \"semantic_type\": \"\",\n        \"description\": \"\"\n      }\n    }\n  ]\n}"
            }
          },
          "metadata": {},
          "execution_count": 17
        }
      ],
      "source": [
        "df_lain2 = pd.read_csv('https://raw.githubusercontent.com/EstiAsmareta/dataset-sentimen-analisis/main/predicted_comments.csv')\n",
        "df_lain2.head()"
      ]
    },
    {
      "cell_type": "code",
      "execution_count": 18,
      "metadata": {
        "colab": {
          "base_uri": "https://localhost:8080/",
          "height": 206
        },
        "id": "VVMwpV038wjD",
        "outputId": "b0d1c3f7-ba35-4631-8c29-12190b9c7c91"
      },
      "outputs": [
        {
          "output_type": "execute_result",
          "data": {
            "text/plain": [
              "   project_ending  rating                                  sentences  label\n",
              "0       Completed     NaN                        Terimakasih banyak.      1\n",
              "1  Self Mediation     NaN                                        NaN      1\n",
              "2       Completed     NaN           Selalu keren hasil pekerjaannya.      1\n",
              "3       Completed     NaN   Selalu puas dengan hasil pekerjaannya...      1\n",
              "4       Completed     NaN  Mantap! Perkerjaannya cepat dan memuaskan      1"
            ],
            "text/html": [
              "\n",
              "  <div id=\"df-11a2f381-8086-4a2d-a551-608ee4649876\" class=\"colab-df-container\">\n",
              "    <div>\n",
              "<style scoped>\n",
              "    .dataframe tbody tr th:only-of-type {\n",
              "        vertical-align: middle;\n",
              "    }\n",
              "\n",
              "    .dataframe tbody tr th {\n",
              "        vertical-align: top;\n",
              "    }\n",
              "\n",
              "    .dataframe thead th {\n",
              "        text-align: right;\n",
              "    }\n",
              "</style>\n",
              "<table border=\"1\" class=\"dataframe\">\n",
              "  <thead>\n",
              "    <tr style=\"text-align: right;\">\n",
              "      <th></th>\n",
              "      <th>project_ending</th>\n",
              "      <th>rating</th>\n",
              "      <th>sentences</th>\n",
              "      <th>label</th>\n",
              "    </tr>\n",
              "  </thead>\n",
              "  <tbody>\n",
              "    <tr>\n",
              "      <th>0</th>\n",
              "      <td>Completed</td>\n",
              "      <td>NaN</td>\n",
              "      <td>Terimakasih banyak.</td>\n",
              "      <td>1</td>\n",
              "    </tr>\n",
              "    <tr>\n",
              "      <th>1</th>\n",
              "      <td>Self Mediation</td>\n",
              "      <td>NaN</td>\n",
              "      <td>NaN</td>\n",
              "      <td>1</td>\n",
              "    </tr>\n",
              "    <tr>\n",
              "      <th>2</th>\n",
              "      <td>Completed</td>\n",
              "      <td>NaN</td>\n",
              "      <td>Selalu keren hasil pekerjaannya.</td>\n",
              "      <td>1</td>\n",
              "    </tr>\n",
              "    <tr>\n",
              "      <th>3</th>\n",
              "      <td>Completed</td>\n",
              "      <td>NaN</td>\n",
              "      <td>Selalu puas dengan hasil pekerjaannya...</td>\n",
              "      <td>1</td>\n",
              "    </tr>\n",
              "    <tr>\n",
              "      <th>4</th>\n",
              "      <td>Completed</td>\n",
              "      <td>NaN</td>\n",
              "      <td>Mantap! Perkerjaannya cepat dan memuaskan</td>\n",
              "      <td>1</td>\n",
              "    </tr>\n",
              "  </tbody>\n",
              "</table>\n",
              "</div>\n",
              "    <div class=\"colab-df-buttons\">\n",
              "\n",
              "  <div class=\"colab-df-container\">\n",
              "    <button class=\"colab-df-convert\" onclick=\"convertToInteractive('df-11a2f381-8086-4a2d-a551-608ee4649876')\"\n",
              "            title=\"Convert this dataframe to an interactive table.\"\n",
              "            style=\"display:none;\">\n",
              "\n",
              "  <svg xmlns=\"http://www.w3.org/2000/svg\" height=\"24px\" viewBox=\"0 -960 960 960\">\n",
              "    <path d=\"M120-120v-720h720v720H120Zm60-500h600v-160H180v160Zm220 220h160v-160H400v160Zm0 220h160v-160H400v160ZM180-400h160v-160H180v160Zm440 0h160v-160H620v160ZM180-180h160v-160H180v160Zm440 0h160v-160H620v160Z\"/>\n",
              "  </svg>\n",
              "    </button>\n",
              "\n",
              "  <style>\n",
              "    .colab-df-container {\n",
              "      display:flex;\n",
              "      gap: 12px;\n",
              "    }\n",
              "\n",
              "    .colab-df-convert {\n",
              "      background-color: #E8F0FE;\n",
              "      border: none;\n",
              "      border-radius: 50%;\n",
              "      cursor: pointer;\n",
              "      display: none;\n",
              "      fill: #1967D2;\n",
              "      height: 32px;\n",
              "      padding: 0 0 0 0;\n",
              "      width: 32px;\n",
              "    }\n",
              "\n",
              "    .colab-df-convert:hover {\n",
              "      background-color: #E2EBFA;\n",
              "      box-shadow: 0px 1px 2px rgba(60, 64, 67, 0.3), 0px 1px 3px 1px rgba(60, 64, 67, 0.15);\n",
              "      fill: #174EA6;\n",
              "    }\n",
              "\n",
              "    .colab-df-buttons div {\n",
              "      margin-bottom: 4px;\n",
              "    }\n",
              "\n",
              "    [theme=dark] .colab-df-convert {\n",
              "      background-color: #3B4455;\n",
              "      fill: #D2E3FC;\n",
              "    }\n",
              "\n",
              "    [theme=dark] .colab-df-convert:hover {\n",
              "      background-color: #434B5C;\n",
              "      box-shadow: 0px 1px 3px 1px rgba(0, 0, 0, 0.15);\n",
              "      filter: drop-shadow(0px 1px 2px rgba(0, 0, 0, 0.3));\n",
              "      fill: #FFFFFF;\n",
              "    }\n",
              "  </style>\n",
              "\n",
              "    <script>\n",
              "      const buttonEl =\n",
              "        document.querySelector('#df-11a2f381-8086-4a2d-a551-608ee4649876 button.colab-df-convert');\n",
              "      buttonEl.style.display =\n",
              "        google.colab.kernel.accessAllowed ? 'block' : 'none';\n",
              "\n",
              "      async function convertToInteractive(key) {\n",
              "        const element = document.querySelector('#df-11a2f381-8086-4a2d-a551-608ee4649876');\n",
              "        const dataTable =\n",
              "          await google.colab.kernel.invokeFunction('convertToInteractive',\n",
              "                                                    [key], {});\n",
              "        if (!dataTable) return;\n",
              "\n",
              "        const docLinkHtml = 'Like what you see? Visit the ' +\n",
              "          '<a target=\"_blank\" href=https://colab.research.google.com/notebooks/data_table.ipynb>data table notebook</a>'\n",
              "          + ' to learn more about interactive tables.';\n",
              "        element.innerHTML = '';\n",
              "        dataTable['output_type'] = 'display_data';\n",
              "        await google.colab.output.renderOutput(dataTable, element);\n",
              "        const docLink = document.createElement('div');\n",
              "        docLink.innerHTML = docLinkHtml;\n",
              "        element.appendChild(docLink);\n",
              "      }\n",
              "    </script>\n",
              "  </div>\n",
              "\n",
              "\n",
              "<div id=\"df-dae5c7dc-29a4-48c7-8a5f-def15bd4120f\">\n",
              "  <button class=\"colab-df-quickchart\" onclick=\"quickchart('df-dae5c7dc-29a4-48c7-8a5f-def15bd4120f')\"\n",
              "            title=\"Suggest charts\"\n",
              "            style=\"display:none;\">\n",
              "\n",
              "<svg xmlns=\"http://www.w3.org/2000/svg\" height=\"24px\"viewBox=\"0 0 24 24\"\n",
              "     width=\"24px\">\n",
              "    <g>\n",
              "        <path d=\"M19 3H5c-1.1 0-2 .9-2 2v14c0 1.1.9 2 2 2h14c1.1 0 2-.9 2-2V5c0-1.1-.9-2-2-2zM9 17H7v-7h2v7zm4 0h-2V7h2v10zm4 0h-2v-4h2v4z\"/>\n",
              "    </g>\n",
              "</svg>\n",
              "  </button>\n",
              "\n",
              "<style>\n",
              "  .colab-df-quickchart {\n",
              "      --bg-color: #E8F0FE;\n",
              "      --fill-color: #1967D2;\n",
              "      --hover-bg-color: #E2EBFA;\n",
              "      --hover-fill-color: #174EA6;\n",
              "      --disabled-fill-color: #AAA;\n",
              "      --disabled-bg-color: #DDD;\n",
              "  }\n",
              "\n",
              "  [theme=dark] .colab-df-quickchart {\n",
              "      --bg-color: #3B4455;\n",
              "      --fill-color: #D2E3FC;\n",
              "      --hover-bg-color: #434B5C;\n",
              "      --hover-fill-color: #FFFFFF;\n",
              "      --disabled-bg-color: #3B4455;\n",
              "      --disabled-fill-color: #666;\n",
              "  }\n",
              "\n",
              "  .colab-df-quickchart {\n",
              "    background-color: var(--bg-color);\n",
              "    border: none;\n",
              "    border-radius: 50%;\n",
              "    cursor: pointer;\n",
              "    display: none;\n",
              "    fill: var(--fill-color);\n",
              "    height: 32px;\n",
              "    padding: 0;\n",
              "    width: 32px;\n",
              "  }\n",
              "\n",
              "  .colab-df-quickchart:hover {\n",
              "    background-color: var(--hover-bg-color);\n",
              "    box-shadow: 0 1px 2px rgba(60, 64, 67, 0.3), 0 1px 3px 1px rgba(60, 64, 67, 0.15);\n",
              "    fill: var(--button-hover-fill-color);\n",
              "  }\n",
              "\n",
              "  .colab-df-quickchart-complete:disabled,\n",
              "  .colab-df-quickchart-complete:disabled:hover {\n",
              "    background-color: var(--disabled-bg-color);\n",
              "    fill: var(--disabled-fill-color);\n",
              "    box-shadow: none;\n",
              "  }\n",
              "\n",
              "  .colab-df-spinner {\n",
              "    border: 2px solid var(--fill-color);\n",
              "    border-color: transparent;\n",
              "    border-bottom-color: var(--fill-color);\n",
              "    animation:\n",
              "      spin 1s steps(1) infinite;\n",
              "  }\n",
              "\n",
              "  @keyframes spin {\n",
              "    0% {\n",
              "      border-color: transparent;\n",
              "      border-bottom-color: var(--fill-color);\n",
              "      border-left-color: var(--fill-color);\n",
              "    }\n",
              "    20% {\n",
              "      border-color: transparent;\n",
              "      border-left-color: var(--fill-color);\n",
              "      border-top-color: var(--fill-color);\n",
              "    }\n",
              "    30% {\n",
              "      border-color: transparent;\n",
              "      border-left-color: var(--fill-color);\n",
              "      border-top-color: var(--fill-color);\n",
              "      border-right-color: var(--fill-color);\n",
              "    }\n",
              "    40% {\n",
              "      border-color: transparent;\n",
              "      border-right-color: var(--fill-color);\n",
              "      border-top-color: var(--fill-color);\n",
              "    }\n",
              "    60% {\n",
              "      border-color: transparent;\n",
              "      border-right-color: var(--fill-color);\n",
              "    }\n",
              "    80% {\n",
              "      border-color: transparent;\n",
              "      border-right-color: var(--fill-color);\n",
              "      border-bottom-color: var(--fill-color);\n",
              "    }\n",
              "    90% {\n",
              "      border-color: transparent;\n",
              "      border-bottom-color: var(--fill-color);\n",
              "    }\n",
              "  }\n",
              "</style>\n",
              "\n",
              "  <script>\n",
              "    async function quickchart(key) {\n",
              "      const quickchartButtonEl =\n",
              "        document.querySelector('#' + key + ' button');\n",
              "      quickchartButtonEl.disabled = true;  // To prevent multiple clicks.\n",
              "      quickchartButtonEl.classList.add('colab-df-spinner');\n",
              "      try {\n",
              "        const charts = await google.colab.kernel.invokeFunction(\n",
              "            'suggestCharts', [key], {});\n",
              "      } catch (error) {\n",
              "        console.error('Error during call to suggestCharts:', error);\n",
              "      }\n",
              "      quickchartButtonEl.classList.remove('colab-df-spinner');\n",
              "      quickchartButtonEl.classList.add('colab-df-quickchart-complete');\n",
              "    }\n",
              "    (() => {\n",
              "      let quickchartButtonEl =\n",
              "        document.querySelector('#df-dae5c7dc-29a4-48c7-8a5f-def15bd4120f button');\n",
              "      quickchartButtonEl.style.display =\n",
              "        google.colab.kernel.accessAllowed ? 'block' : 'none';\n",
              "    })();\n",
              "  </script>\n",
              "</div>\n",
              "\n",
              "    </div>\n",
              "  </div>\n"
            ],
            "application/vnd.google.colaboratory.intrinsic+json": {
              "type": "dataframe",
              "summary": "{\n  \"name\": \"(df_lain2\",\n  \"rows\": 5,\n  \"fields\": [\n    {\n      \"column\": \"project_ending\",\n      \"properties\": {\n        \"dtype\": \"category\",\n        \"num_unique_values\": 2,\n        \"samples\": [\n          \"Self Mediation\",\n          \"Completed\"\n        ],\n        \"semantic_type\": \"\",\n        \"description\": \"\"\n      }\n    },\n    {\n      \"column\": \"rating\",\n      \"properties\": {\n        \"dtype\": \"number\",\n        \"std\": null,\n        \"min\": null,\n        \"max\": null,\n        \"num_unique_values\": 0,\n        \"samples\": [],\n        \"semantic_type\": \"\",\n        \"description\": \"\"\n      }\n    },\n    {\n      \"column\": \"sentences\",\n      \"properties\": {\n        \"dtype\": \"string\",\n        \"num_unique_values\": 4,\n        \"samples\": [],\n        \"semantic_type\": \"\",\n        \"description\": \"\"\n      }\n    },\n    {\n      \"column\": \"label\",\n      \"properties\": {\n        \"dtype\": \"number\",\n        \"std\": 0,\n        \"min\": 1,\n        \"max\": 1,\n        \"num_unique_values\": 1,\n        \"samples\": [],\n        \"semantic_type\": \"\",\n        \"description\": \"\"\n      }\n    }\n  ]\n}"
            }
          },
          "metadata": {},
          "execution_count": 18
        }
      ],
      "source": [
        "# df_lain2 = df_lain2.rename(columns={'sentimen':'label'})\n",
        "df_lain2 = df_lain2.rename(columns={'sentiment':'label'})\n",
        "df_lain2 = df_lain2.rename(columns={'text':'sentences'})\n",
        "(df_lain2.head())"
      ]
    },
    {
      "cell_type": "code",
      "execution_count": 19,
      "metadata": {
        "colab": {
          "base_uri": "https://localhost:8080/"
        },
        "id": "wZm7OqW_nrdM",
        "outputId": "bb0e94cd-42dd-4f69-e873-785791a25700"
      },
      "outputs": [
        {
          "output_type": "execute_result",
          "data": {
            "text/plain": [
              "Series([], Name: count, dtype: int64)"
            ]
          },
          "metadata": {},
          "execution_count": 19
        }
      ],
      "source": [
        "df_lain2['label'] = df_lain2['label'].replace(2, -1)\n",
        "df_lain2.dropna(inplace=True)\n",
        "df_lain2['label'].value_counts()"
      ]
    },
    {
      "cell_type": "code",
      "execution_count": 20,
      "metadata": {
        "colab": {
          "base_uri": "https://localhost:8080/",
          "height": 206
        },
        "id": "IrtKv0ntlyMZ",
        "outputId": "14808023-5899-4610-8466-c16ef85c24ae"
      },
      "outputs": [
        {
          "output_type": "execute_result",
          "data": {
            "text/plain": [
              "                                                 raw  \\\n",
              "0  Mau ganti nomer akun dana lama no nya hilang s...   \n",
              "1  Ketauan pake yang lain teman2 pake dana susah ...   \n",
              "2  aneh, verifikasi KTP. katanya KTP gua palsu. S...   \n",
              "3  Gwe kirim ke req masih proses belum ada konfir...   \n",
              "4  gimana nih pihak ovo udah 1x24 jam saya ngisi ...   \n",
              "\n",
              "                                           processed  labels  \n",
              "0  ganti nomer akun dana no hilang email whatsapp...      -1  \n",
              "1  ketahuan pakai teman pakai dana susah banget t...      -1  \n",
              "2  aneh verifikasi ktp katanya ktp palsu sim pals...      -1  \n",
              "3  kirim request proses konfirm masuk pihak dana ...      -1  \n",
              "4  pihak ovo jam mengisi pulsa pelanggan masuk ga...      -1  "
            ],
            "text/html": [
              "\n",
              "  <div id=\"df-50110a28-20bd-4a3c-98a8-df50d765e188\" class=\"colab-df-container\">\n",
              "    <div>\n",
              "<style scoped>\n",
              "    .dataframe tbody tr th:only-of-type {\n",
              "        vertical-align: middle;\n",
              "    }\n",
              "\n",
              "    .dataframe tbody tr th {\n",
              "        vertical-align: top;\n",
              "    }\n",
              "\n",
              "    .dataframe thead th {\n",
              "        text-align: right;\n",
              "    }\n",
              "</style>\n",
              "<table border=\"1\" class=\"dataframe\">\n",
              "  <thead>\n",
              "    <tr style=\"text-align: right;\">\n",
              "      <th></th>\n",
              "      <th>raw</th>\n",
              "      <th>processed</th>\n",
              "      <th>labels</th>\n",
              "    </tr>\n",
              "  </thead>\n",
              "  <tbody>\n",
              "    <tr>\n",
              "      <th>0</th>\n",
              "      <td>Mau ganti nomer akun dana lama no nya hilang s...</td>\n",
              "      <td>ganti nomer akun dana no hilang email whatsapp...</td>\n",
              "      <td>-1</td>\n",
              "    </tr>\n",
              "    <tr>\n",
              "      <th>1</th>\n",
              "      <td>Ketauan pake yang lain teman2 pake dana susah ...</td>\n",
              "      <td>ketahuan pakai teman pakai dana susah banget t...</td>\n",
              "      <td>-1</td>\n",
              "    </tr>\n",
              "    <tr>\n",
              "      <th>2</th>\n",
              "      <td>aneh, verifikasi KTP. katanya KTP gua palsu. S...</td>\n",
              "      <td>aneh verifikasi ktp katanya ktp palsu sim pals...</td>\n",
              "      <td>-1</td>\n",
              "    </tr>\n",
              "    <tr>\n",
              "      <th>3</th>\n",
              "      <td>Gwe kirim ke req masih proses belum ada konfir...</td>\n",
              "      <td>kirim request proses konfirm masuk pihak dana ...</td>\n",
              "      <td>-1</td>\n",
              "    </tr>\n",
              "    <tr>\n",
              "      <th>4</th>\n",
              "      <td>gimana nih pihak ovo udah 1x24 jam saya ngisi ...</td>\n",
              "      <td>pihak ovo jam mengisi pulsa pelanggan masuk ga...</td>\n",
              "      <td>-1</td>\n",
              "    </tr>\n",
              "  </tbody>\n",
              "</table>\n",
              "</div>\n",
              "    <div class=\"colab-df-buttons\">\n",
              "\n",
              "  <div class=\"colab-df-container\">\n",
              "    <button class=\"colab-df-convert\" onclick=\"convertToInteractive('df-50110a28-20bd-4a3c-98a8-df50d765e188')\"\n",
              "            title=\"Convert this dataframe to an interactive table.\"\n",
              "            style=\"display:none;\">\n",
              "\n",
              "  <svg xmlns=\"http://www.w3.org/2000/svg\" height=\"24px\" viewBox=\"0 -960 960 960\">\n",
              "    <path d=\"M120-120v-720h720v720H120Zm60-500h600v-160H180v160Zm220 220h160v-160H400v160Zm0 220h160v-160H400v160ZM180-400h160v-160H180v160Zm440 0h160v-160H620v160ZM180-180h160v-160H180v160Zm440 0h160v-160H620v160Z\"/>\n",
              "  </svg>\n",
              "    </button>\n",
              "\n",
              "  <style>\n",
              "    .colab-df-container {\n",
              "      display:flex;\n",
              "      gap: 12px;\n",
              "    }\n",
              "\n",
              "    .colab-df-convert {\n",
              "      background-color: #E8F0FE;\n",
              "      border: none;\n",
              "      border-radius: 50%;\n",
              "      cursor: pointer;\n",
              "      display: none;\n",
              "      fill: #1967D2;\n",
              "      height: 32px;\n",
              "      padding: 0 0 0 0;\n",
              "      width: 32px;\n",
              "    }\n",
              "\n",
              "    .colab-df-convert:hover {\n",
              "      background-color: #E2EBFA;\n",
              "      box-shadow: 0px 1px 2px rgba(60, 64, 67, 0.3), 0px 1px 3px 1px rgba(60, 64, 67, 0.15);\n",
              "      fill: #174EA6;\n",
              "    }\n",
              "\n",
              "    .colab-df-buttons div {\n",
              "      margin-bottom: 4px;\n",
              "    }\n",
              "\n",
              "    [theme=dark] .colab-df-convert {\n",
              "      background-color: #3B4455;\n",
              "      fill: #D2E3FC;\n",
              "    }\n",
              "\n",
              "    [theme=dark] .colab-df-convert:hover {\n",
              "      background-color: #434B5C;\n",
              "      box-shadow: 0px 1px 3px 1px rgba(0, 0, 0, 0.15);\n",
              "      filter: drop-shadow(0px 1px 2px rgba(0, 0, 0, 0.3));\n",
              "      fill: #FFFFFF;\n",
              "    }\n",
              "  </style>\n",
              "\n",
              "    <script>\n",
              "      const buttonEl =\n",
              "        document.querySelector('#df-50110a28-20bd-4a3c-98a8-df50d765e188 button.colab-df-convert');\n",
              "      buttonEl.style.display =\n",
              "        google.colab.kernel.accessAllowed ? 'block' : 'none';\n",
              "\n",
              "      async function convertToInteractive(key) {\n",
              "        const element = document.querySelector('#df-50110a28-20bd-4a3c-98a8-df50d765e188');\n",
              "        const dataTable =\n",
              "          await google.colab.kernel.invokeFunction('convertToInteractive',\n",
              "                                                    [key], {});\n",
              "        if (!dataTable) return;\n",
              "\n",
              "        const docLinkHtml = 'Like what you see? Visit the ' +\n",
              "          '<a target=\"_blank\" href=https://colab.research.google.com/notebooks/data_table.ipynb>data table notebook</a>'\n",
              "          + ' to learn more about interactive tables.';\n",
              "        element.innerHTML = '';\n",
              "        dataTable['output_type'] = 'display_data';\n",
              "        await google.colab.output.renderOutput(dataTable, element);\n",
              "        const docLink = document.createElement('div');\n",
              "        docLink.innerHTML = docLinkHtml;\n",
              "        element.appendChild(docLink);\n",
              "      }\n",
              "    </script>\n",
              "  </div>\n",
              "\n",
              "\n",
              "<div id=\"df-0a6fdee1-0379-407e-9a19-339f2e73ae3d\">\n",
              "  <button class=\"colab-df-quickchart\" onclick=\"quickchart('df-0a6fdee1-0379-407e-9a19-339f2e73ae3d')\"\n",
              "            title=\"Suggest charts\"\n",
              "            style=\"display:none;\">\n",
              "\n",
              "<svg xmlns=\"http://www.w3.org/2000/svg\" height=\"24px\"viewBox=\"0 0 24 24\"\n",
              "     width=\"24px\">\n",
              "    <g>\n",
              "        <path d=\"M19 3H5c-1.1 0-2 .9-2 2v14c0 1.1.9 2 2 2h14c1.1 0 2-.9 2-2V5c0-1.1-.9-2-2-2zM9 17H7v-7h2v7zm4 0h-2V7h2v10zm4 0h-2v-4h2v4z\"/>\n",
              "    </g>\n",
              "</svg>\n",
              "  </button>\n",
              "\n",
              "<style>\n",
              "  .colab-df-quickchart {\n",
              "      --bg-color: #E8F0FE;\n",
              "      --fill-color: #1967D2;\n",
              "      --hover-bg-color: #E2EBFA;\n",
              "      --hover-fill-color: #174EA6;\n",
              "      --disabled-fill-color: #AAA;\n",
              "      --disabled-bg-color: #DDD;\n",
              "  }\n",
              "\n",
              "  [theme=dark] .colab-df-quickchart {\n",
              "      --bg-color: #3B4455;\n",
              "      --fill-color: #D2E3FC;\n",
              "      --hover-bg-color: #434B5C;\n",
              "      --hover-fill-color: #FFFFFF;\n",
              "      --disabled-bg-color: #3B4455;\n",
              "      --disabled-fill-color: #666;\n",
              "  }\n",
              "\n",
              "  .colab-df-quickchart {\n",
              "    background-color: var(--bg-color);\n",
              "    border: none;\n",
              "    border-radius: 50%;\n",
              "    cursor: pointer;\n",
              "    display: none;\n",
              "    fill: var(--fill-color);\n",
              "    height: 32px;\n",
              "    padding: 0;\n",
              "    width: 32px;\n",
              "  }\n",
              "\n",
              "  .colab-df-quickchart:hover {\n",
              "    background-color: var(--hover-bg-color);\n",
              "    box-shadow: 0 1px 2px rgba(60, 64, 67, 0.3), 0 1px 3px 1px rgba(60, 64, 67, 0.15);\n",
              "    fill: var(--button-hover-fill-color);\n",
              "  }\n",
              "\n",
              "  .colab-df-quickchart-complete:disabled,\n",
              "  .colab-df-quickchart-complete:disabled:hover {\n",
              "    background-color: var(--disabled-bg-color);\n",
              "    fill: var(--disabled-fill-color);\n",
              "    box-shadow: none;\n",
              "  }\n",
              "\n",
              "  .colab-df-spinner {\n",
              "    border: 2px solid var(--fill-color);\n",
              "    border-color: transparent;\n",
              "    border-bottom-color: var(--fill-color);\n",
              "    animation:\n",
              "      spin 1s steps(1) infinite;\n",
              "  }\n",
              "\n",
              "  @keyframes spin {\n",
              "    0% {\n",
              "      border-color: transparent;\n",
              "      border-bottom-color: var(--fill-color);\n",
              "      border-left-color: var(--fill-color);\n",
              "    }\n",
              "    20% {\n",
              "      border-color: transparent;\n",
              "      border-left-color: var(--fill-color);\n",
              "      border-top-color: var(--fill-color);\n",
              "    }\n",
              "    30% {\n",
              "      border-color: transparent;\n",
              "      border-left-color: var(--fill-color);\n",
              "      border-top-color: var(--fill-color);\n",
              "      border-right-color: var(--fill-color);\n",
              "    }\n",
              "    40% {\n",
              "      border-color: transparent;\n",
              "      border-right-color: var(--fill-color);\n",
              "      border-top-color: var(--fill-color);\n",
              "    }\n",
              "    60% {\n",
              "      border-color: transparent;\n",
              "      border-right-color: var(--fill-color);\n",
              "    }\n",
              "    80% {\n",
              "      border-color: transparent;\n",
              "      border-right-color: var(--fill-color);\n",
              "      border-bottom-color: var(--fill-color);\n",
              "    }\n",
              "    90% {\n",
              "      border-color: transparent;\n",
              "      border-bottom-color: var(--fill-color);\n",
              "    }\n",
              "  }\n",
              "</style>\n",
              "\n",
              "  <script>\n",
              "    async function quickchart(key) {\n",
              "      const quickchartButtonEl =\n",
              "        document.querySelector('#' + key + ' button');\n",
              "      quickchartButtonEl.disabled = true;  // To prevent multiple clicks.\n",
              "      quickchartButtonEl.classList.add('colab-df-spinner');\n",
              "      try {\n",
              "        const charts = await google.colab.kernel.invokeFunction(\n",
              "            'suggestCharts', [key], {});\n",
              "      } catch (error) {\n",
              "        console.error('Error during call to suggestCharts:', error);\n",
              "      }\n",
              "      quickchartButtonEl.classList.remove('colab-df-spinner');\n",
              "      quickchartButtonEl.classList.add('colab-df-quickchart-complete');\n",
              "    }\n",
              "    (() => {\n",
              "      let quickchartButtonEl =\n",
              "        document.querySelector('#df-0a6fdee1-0379-407e-9a19-339f2e73ae3d button');\n",
              "      quickchartButtonEl.style.display =\n",
              "        google.colab.kernel.accessAllowed ? 'block' : 'none';\n",
              "    })();\n",
              "  </script>\n",
              "</div>\n",
              "\n",
              "    </div>\n",
              "  </div>\n"
            ],
            "application/vnd.google.colaboratory.intrinsic+json": {
              "type": "dataframe",
              "variable_name": "df_lain3",
              "summary": "{\n  \"name\": \"df_lain3\",\n  \"rows\": 201,\n  \"fields\": [\n    {\n      \"column\": \"raw\",\n      \"properties\": {\n        \"dtype\": \"string\",\n        \"num_unique_values\": 201,\n        \"samples\": [\n          \"Jujur, CS nya buat naik pitan.. pengen mengaktifkan krn sdh lama g aktif, tanya berbelit\\\" kyk saya bukan pemilik aja, nomor yg dipake telp ya nomor yg didaftarkan, nama ya sdh benar kq masih tanya yg lain\\\".. SUNGGUH MENJENGKELKAN\",\n          \"Bahkan baru buka pertama kali aja dah gagal memuat niat ngak sihh bikin aplikasi udah 2 hari masak gangguan mulu ngak bisa bisa di buka\",\n          \"Sangat recomended sekali untuk aplikasi ini. Aplikasi yang sangat berguna buat saya. Karena disini banyak banget menu yang memudahkan saya untuk transaksi. Seperti : Transfer dan tarik tunai, beli pulsa dan data,asuransi,bayar listrik,PDAM sampai internet. Pembayarannya pun sangat simple no ribet ribet dan gak pakai lama. Cukup scan dan tunjukan token aplikasi langsung bayar. Kapan lagi bisa melakukan banyak transaksi dengan menggunakan satu aplikasi saja. Buat kalian pokoknya harus download.\"\n        ],\n        \"semantic_type\": \"\",\n        \"description\": \"\"\n      }\n    },\n    {\n      \"column\": \"processed\",\n      \"properties\": {\n        \"dtype\": \"string\",\n        \"num_unique_values\": 201,\n        \"samples\": [\n          \"jujur cs naik pitan mengaktifkan aktif tanya berbelit kayak pemilik nomor dipakai telepon nomor didaftarkan nama benar tanya sungguh menjengkelkan\",\n          \"pertama kali gagal memuat niat nggak aplikasi masak gangguan terus nggak\",\n          \"recomended untuk aplikasi aplikasi berguna banget menu memudahkan untuk transaksi transfer tarik tunai beli pulsa data asuransi bayar listrik pdam internet pembayarannya simple no ribet ribet pakai cukup scan tunjukkan token aplikasi langsung bayar melakukan transaksi menggunakan satu aplikasi pokoknya download\"\n        ],\n        \"semantic_type\": \"\",\n        \"description\": \"\"\n      }\n    },\n    {\n      \"column\": \"labels\",\n      \"properties\": {\n        \"dtype\": \"number\",\n        \"std\": 0,\n        \"min\": -1,\n        \"max\": 1,\n        \"num_unique_values\": 2,\n        \"samples\": [\n          1,\n          -1\n        ],\n        \"semantic_type\": \"\",\n        \"description\": \"\"\n      }\n    }\n  ]\n}"
            }
          },
          "metadata": {},
          "execution_count": 20
        }
      ],
      "source": [
        "df_lain3 = pd.read_csv('https://raw.githubusercontent.com/kaenova/Analisis-Sentimen-Aplikasi-Dompet-Digital-Indonesia-Menggunakan-Metode-CNN-Dan-LSTM/main/data/manualLabelV1/FinalLabel.csv')\n",
        "df_lain3.head()"
      ]
    },
    {
      "cell_type": "code",
      "execution_count": 21,
      "metadata": {
        "colab": {
          "base_uri": "https://localhost:8080/",
          "height": 206
        },
        "id": "QKwXrqt2mXKd",
        "outputId": "b9440ff6-9935-4752-8171-2a51913cec7d"
      },
      "outputs": [
        {
          "output_type": "execute_result",
          "data": {
            "text/plain": [
              "                                           sentences  \\\n",
              "0  Mau ganti nomer akun dana lama no nya hilang s...   \n",
              "1  Ketauan pake yang lain teman2 pake dana susah ...   \n",
              "2  aneh, verifikasi KTP. katanya KTP gua palsu. S...   \n",
              "3  Gwe kirim ke req masih proses belum ada konfir...   \n",
              "4  gimana nih pihak ovo udah 1x24 jam saya ngisi ...   \n",
              "\n",
              "                                           processed  label  \n",
              "0  ganti nomer akun dana no hilang email whatsapp...     -1  \n",
              "1  ketahuan pakai teman pakai dana susah banget t...     -1  \n",
              "2  aneh verifikasi ktp katanya ktp palsu sim pals...     -1  \n",
              "3  kirim request proses konfirm masuk pihak dana ...     -1  \n",
              "4  pihak ovo jam mengisi pulsa pelanggan masuk ga...     -1  "
            ],
            "text/html": [
              "\n",
              "  <div id=\"df-a689e744-1532-4250-a718-0e8002587170\" class=\"colab-df-container\">\n",
              "    <div>\n",
              "<style scoped>\n",
              "    .dataframe tbody tr th:only-of-type {\n",
              "        vertical-align: middle;\n",
              "    }\n",
              "\n",
              "    .dataframe tbody tr th {\n",
              "        vertical-align: top;\n",
              "    }\n",
              "\n",
              "    .dataframe thead th {\n",
              "        text-align: right;\n",
              "    }\n",
              "</style>\n",
              "<table border=\"1\" class=\"dataframe\">\n",
              "  <thead>\n",
              "    <tr style=\"text-align: right;\">\n",
              "      <th></th>\n",
              "      <th>sentences</th>\n",
              "      <th>processed</th>\n",
              "      <th>label</th>\n",
              "    </tr>\n",
              "  </thead>\n",
              "  <tbody>\n",
              "    <tr>\n",
              "      <th>0</th>\n",
              "      <td>Mau ganti nomer akun dana lama no nya hilang s...</td>\n",
              "      <td>ganti nomer akun dana no hilang email whatsapp...</td>\n",
              "      <td>-1</td>\n",
              "    </tr>\n",
              "    <tr>\n",
              "      <th>1</th>\n",
              "      <td>Ketauan pake yang lain teman2 pake dana susah ...</td>\n",
              "      <td>ketahuan pakai teman pakai dana susah banget t...</td>\n",
              "      <td>-1</td>\n",
              "    </tr>\n",
              "    <tr>\n",
              "      <th>2</th>\n",
              "      <td>aneh, verifikasi KTP. katanya KTP gua palsu. S...</td>\n",
              "      <td>aneh verifikasi ktp katanya ktp palsu sim pals...</td>\n",
              "      <td>-1</td>\n",
              "    </tr>\n",
              "    <tr>\n",
              "      <th>3</th>\n",
              "      <td>Gwe kirim ke req masih proses belum ada konfir...</td>\n",
              "      <td>kirim request proses konfirm masuk pihak dana ...</td>\n",
              "      <td>-1</td>\n",
              "    </tr>\n",
              "    <tr>\n",
              "      <th>4</th>\n",
              "      <td>gimana nih pihak ovo udah 1x24 jam saya ngisi ...</td>\n",
              "      <td>pihak ovo jam mengisi pulsa pelanggan masuk ga...</td>\n",
              "      <td>-1</td>\n",
              "    </tr>\n",
              "  </tbody>\n",
              "</table>\n",
              "</div>\n",
              "    <div class=\"colab-df-buttons\">\n",
              "\n",
              "  <div class=\"colab-df-container\">\n",
              "    <button class=\"colab-df-convert\" onclick=\"convertToInteractive('df-a689e744-1532-4250-a718-0e8002587170')\"\n",
              "            title=\"Convert this dataframe to an interactive table.\"\n",
              "            style=\"display:none;\">\n",
              "\n",
              "  <svg xmlns=\"http://www.w3.org/2000/svg\" height=\"24px\" viewBox=\"0 -960 960 960\">\n",
              "    <path d=\"M120-120v-720h720v720H120Zm60-500h600v-160H180v160Zm220 220h160v-160H400v160Zm0 220h160v-160H400v160ZM180-400h160v-160H180v160Zm440 0h160v-160H620v160ZM180-180h160v-160H180v160Zm440 0h160v-160H620v160Z\"/>\n",
              "  </svg>\n",
              "    </button>\n",
              "\n",
              "  <style>\n",
              "    .colab-df-container {\n",
              "      display:flex;\n",
              "      gap: 12px;\n",
              "    }\n",
              "\n",
              "    .colab-df-convert {\n",
              "      background-color: #E8F0FE;\n",
              "      border: none;\n",
              "      border-radius: 50%;\n",
              "      cursor: pointer;\n",
              "      display: none;\n",
              "      fill: #1967D2;\n",
              "      height: 32px;\n",
              "      padding: 0 0 0 0;\n",
              "      width: 32px;\n",
              "    }\n",
              "\n",
              "    .colab-df-convert:hover {\n",
              "      background-color: #E2EBFA;\n",
              "      box-shadow: 0px 1px 2px rgba(60, 64, 67, 0.3), 0px 1px 3px 1px rgba(60, 64, 67, 0.15);\n",
              "      fill: #174EA6;\n",
              "    }\n",
              "\n",
              "    .colab-df-buttons div {\n",
              "      margin-bottom: 4px;\n",
              "    }\n",
              "\n",
              "    [theme=dark] .colab-df-convert {\n",
              "      background-color: #3B4455;\n",
              "      fill: #D2E3FC;\n",
              "    }\n",
              "\n",
              "    [theme=dark] .colab-df-convert:hover {\n",
              "      background-color: #434B5C;\n",
              "      box-shadow: 0px 1px 3px 1px rgba(0, 0, 0, 0.15);\n",
              "      filter: drop-shadow(0px 1px 2px rgba(0, 0, 0, 0.3));\n",
              "      fill: #FFFFFF;\n",
              "    }\n",
              "  </style>\n",
              "\n",
              "    <script>\n",
              "      const buttonEl =\n",
              "        document.querySelector('#df-a689e744-1532-4250-a718-0e8002587170 button.colab-df-convert');\n",
              "      buttonEl.style.display =\n",
              "        google.colab.kernel.accessAllowed ? 'block' : 'none';\n",
              "\n",
              "      async function convertToInteractive(key) {\n",
              "        const element = document.querySelector('#df-a689e744-1532-4250-a718-0e8002587170');\n",
              "        const dataTable =\n",
              "          await google.colab.kernel.invokeFunction('convertToInteractive',\n",
              "                                                    [key], {});\n",
              "        if (!dataTable) return;\n",
              "\n",
              "        const docLinkHtml = 'Like what you see? Visit the ' +\n",
              "          '<a target=\"_blank\" href=https://colab.research.google.com/notebooks/data_table.ipynb>data table notebook</a>'\n",
              "          + ' to learn more about interactive tables.';\n",
              "        element.innerHTML = '';\n",
              "        dataTable['output_type'] = 'display_data';\n",
              "        await google.colab.output.renderOutput(dataTable, element);\n",
              "        const docLink = document.createElement('div');\n",
              "        docLink.innerHTML = docLinkHtml;\n",
              "        element.appendChild(docLink);\n",
              "      }\n",
              "    </script>\n",
              "  </div>\n",
              "\n",
              "\n",
              "<div id=\"df-48cd2a14-16b5-4b01-9880-7e31220792b5\">\n",
              "  <button class=\"colab-df-quickchart\" onclick=\"quickchart('df-48cd2a14-16b5-4b01-9880-7e31220792b5')\"\n",
              "            title=\"Suggest charts\"\n",
              "            style=\"display:none;\">\n",
              "\n",
              "<svg xmlns=\"http://www.w3.org/2000/svg\" height=\"24px\"viewBox=\"0 0 24 24\"\n",
              "     width=\"24px\">\n",
              "    <g>\n",
              "        <path d=\"M19 3H5c-1.1 0-2 .9-2 2v14c0 1.1.9 2 2 2h14c1.1 0 2-.9 2-2V5c0-1.1-.9-2-2-2zM9 17H7v-7h2v7zm4 0h-2V7h2v10zm4 0h-2v-4h2v4z\"/>\n",
              "    </g>\n",
              "</svg>\n",
              "  </button>\n",
              "\n",
              "<style>\n",
              "  .colab-df-quickchart {\n",
              "      --bg-color: #E8F0FE;\n",
              "      --fill-color: #1967D2;\n",
              "      --hover-bg-color: #E2EBFA;\n",
              "      --hover-fill-color: #174EA6;\n",
              "      --disabled-fill-color: #AAA;\n",
              "      --disabled-bg-color: #DDD;\n",
              "  }\n",
              "\n",
              "  [theme=dark] .colab-df-quickchart {\n",
              "      --bg-color: #3B4455;\n",
              "      --fill-color: #D2E3FC;\n",
              "      --hover-bg-color: #434B5C;\n",
              "      --hover-fill-color: #FFFFFF;\n",
              "      --disabled-bg-color: #3B4455;\n",
              "      --disabled-fill-color: #666;\n",
              "  }\n",
              "\n",
              "  .colab-df-quickchart {\n",
              "    background-color: var(--bg-color);\n",
              "    border: none;\n",
              "    border-radius: 50%;\n",
              "    cursor: pointer;\n",
              "    display: none;\n",
              "    fill: var(--fill-color);\n",
              "    height: 32px;\n",
              "    padding: 0;\n",
              "    width: 32px;\n",
              "  }\n",
              "\n",
              "  .colab-df-quickchart:hover {\n",
              "    background-color: var(--hover-bg-color);\n",
              "    box-shadow: 0 1px 2px rgba(60, 64, 67, 0.3), 0 1px 3px 1px rgba(60, 64, 67, 0.15);\n",
              "    fill: var(--button-hover-fill-color);\n",
              "  }\n",
              "\n",
              "  .colab-df-quickchart-complete:disabled,\n",
              "  .colab-df-quickchart-complete:disabled:hover {\n",
              "    background-color: var(--disabled-bg-color);\n",
              "    fill: var(--disabled-fill-color);\n",
              "    box-shadow: none;\n",
              "  }\n",
              "\n",
              "  .colab-df-spinner {\n",
              "    border: 2px solid var(--fill-color);\n",
              "    border-color: transparent;\n",
              "    border-bottom-color: var(--fill-color);\n",
              "    animation:\n",
              "      spin 1s steps(1) infinite;\n",
              "  }\n",
              "\n",
              "  @keyframes spin {\n",
              "    0% {\n",
              "      border-color: transparent;\n",
              "      border-bottom-color: var(--fill-color);\n",
              "      border-left-color: var(--fill-color);\n",
              "    }\n",
              "    20% {\n",
              "      border-color: transparent;\n",
              "      border-left-color: var(--fill-color);\n",
              "      border-top-color: var(--fill-color);\n",
              "    }\n",
              "    30% {\n",
              "      border-color: transparent;\n",
              "      border-left-color: var(--fill-color);\n",
              "      border-top-color: var(--fill-color);\n",
              "      border-right-color: var(--fill-color);\n",
              "    }\n",
              "    40% {\n",
              "      border-color: transparent;\n",
              "      border-right-color: var(--fill-color);\n",
              "      border-top-color: var(--fill-color);\n",
              "    }\n",
              "    60% {\n",
              "      border-color: transparent;\n",
              "      border-right-color: var(--fill-color);\n",
              "    }\n",
              "    80% {\n",
              "      border-color: transparent;\n",
              "      border-right-color: var(--fill-color);\n",
              "      border-bottom-color: var(--fill-color);\n",
              "    }\n",
              "    90% {\n",
              "      border-color: transparent;\n",
              "      border-bottom-color: var(--fill-color);\n",
              "    }\n",
              "  }\n",
              "</style>\n",
              "\n",
              "  <script>\n",
              "    async function quickchart(key) {\n",
              "      const quickchartButtonEl =\n",
              "        document.querySelector('#' + key + ' button');\n",
              "      quickchartButtonEl.disabled = true;  // To prevent multiple clicks.\n",
              "      quickchartButtonEl.classList.add('colab-df-spinner');\n",
              "      try {\n",
              "        const charts = await google.colab.kernel.invokeFunction(\n",
              "            'suggestCharts', [key], {});\n",
              "      } catch (error) {\n",
              "        console.error('Error during call to suggestCharts:', error);\n",
              "      }\n",
              "      quickchartButtonEl.classList.remove('colab-df-spinner');\n",
              "      quickchartButtonEl.classList.add('colab-df-quickchart-complete');\n",
              "    }\n",
              "    (() => {\n",
              "      let quickchartButtonEl =\n",
              "        document.querySelector('#df-48cd2a14-16b5-4b01-9880-7e31220792b5 button');\n",
              "      quickchartButtonEl.style.display =\n",
              "        google.colab.kernel.accessAllowed ? 'block' : 'none';\n",
              "    })();\n",
              "  </script>\n",
              "</div>\n",
              "\n",
              "    </div>\n",
              "  </div>\n"
            ],
            "application/vnd.google.colaboratory.intrinsic+json": {
              "type": "dataframe",
              "variable_name": "df_lain3",
              "summary": "{\n  \"name\": \"df_lain3\",\n  \"rows\": 201,\n  \"fields\": [\n    {\n      \"column\": \"sentences\",\n      \"properties\": {\n        \"dtype\": \"string\",\n        \"num_unique_values\": 201,\n        \"samples\": [\n          \"Jujur, CS nya buat naik pitan.. pengen mengaktifkan krn sdh lama g aktif, tanya berbelit\\\" kyk saya bukan pemilik aja, nomor yg dipake telp ya nomor yg didaftarkan, nama ya sdh benar kq masih tanya yg lain\\\".. SUNGGUH MENJENGKELKAN\",\n          \"Bahkan baru buka pertama kali aja dah gagal memuat niat ngak sihh bikin aplikasi udah 2 hari masak gangguan mulu ngak bisa bisa di buka\",\n          \"Sangat recomended sekali untuk aplikasi ini. Aplikasi yang sangat berguna buat saya. Karena disini banyak banget menu yang memudahkan saya untuk transaksi. Seperti : Transfer dan tarik tunai, beli pulsa dan data,asuransi,bayar listrik,PDAM sampai internet. Pembayarannya pun sangat simple no ribet ribet dan gak pakai lama. Cukup scan dan tunjukan token aplikasi langsung bayar. Kapan lagi bisa melakukan banyak transaksi dengan menggunakan satu aplikasi saja. Buat kalian pokoknya harus download.\"\n        ],\n        \"semantic_type\": \"\",\n        \"description\": \"\"\n      }\n    },\n    {\n      \"column\": \"processed\",\n      \"properties\": {\n        \"dtype\": \"string\",\n        \"num_unique_values\": 201,\n        \"samples\": [\n          \"jujur cs naik pitan mengaktifkan aktif tanya berbelit kayak pemilik nomor dipakai telepon nomor didaftarkan nama benar tanya sungguh menjengkelkan\",\n          \"pertama kali gagal memuat niat nggak aplikasi masak gangguan terus nggak\",\n          \"recomended untuk aplikasi aplikasi berguna banget menu memudahkan untuk transaksi transfer tarik tunai beli pulsa data asuransi bayar listrik pdam internet pembayarannya simple no ribet ribet pakai cukup scan tunjukkan token aplikasi langsung bayar melakukan transaksi menggunakan satu aplikasi pokoknya download\"\n        ],\n        \"semantic_type\": \"\",\n        \"description\": \"\"\n      }\n    },\n    {\n      \"column\": \"label\",\n      \"properties\": {\n        \"dtype\": \"number\",\n        \"std\": 0,\n        \"min\": -1,\n        \"max\": 1,\n        \"num_unique_values\": 2,\n        \"samples\": [\n          1,\n          -1\n        ],\n        \"semantic_type\": \"\",\n        \"description\": \"\"\n      }\n    }\n  ]\n}"
            }
          },
          "metadata": {},
          "execution_count": 21
        }
      ],
      "source": [
        "df_lain3 = df_lain3.rename(columns={'raw':'sentences'})\n",
        "df_lain3 = df_lain3.rename(columns={'labels':'label'})\n",
        "df_lain3.head()"
      ]
    },
    {
      "cell_type": "code",
      "execution_count": 22,
      "metadata": {
        "colab": {
          "base_uri": "https://localhost:8080/"
        },
        "id": "9sxt0PRRmdIk",
        "outputId": "7e69a101-8513-4f62-b145-ca1f6da1b48c"
      },
      "outputs": [
        {
          "output_type": "stream",
          "name": "stdout",
          "text": [
            "sentences    201\n",
            "processed    201\n",
            "label        201\n",
            "dtype: int64\n",
            "label\n",
            "-1    169\n",
            " 1     32\n",
            "Name: count, dtype: int64\n"
          ]
        }
      ],
      "source": [
        "print(df_lain3.count())\n",
        "print(df_lain3['label'].value_counts())"
      ]
    },
    {
      "cell_type": "code",
      "execution_count": 23,
      "metadata": {
        "id": "d3eIo5YLuPiS"
      },
      "outputs": [],
      "source": [
        "from sklearn.utils import shuffle\n",
        "\n",
        "# df_gabung   = pd.concat([df_lain2])\n",
        "df_gabung   = pd.concat([df, df_lain, df_lain1, df_lain2, df_lain3])\n",
        "df_gabung =shuffle(df_gabung)\n",
        "df_gabung = df_gabung.reset_index(drop=True)"
      ]
    },
    {
      "cell_type": "code",
      "execution_count": 24,
      "metadata": {
        "id": "83Qki8XGYM2g"
      },
      "outputs": [],
      "source": [
        "df = df_gabung"
      ]
    },
    {
      "cell_type": "code",
      "execution_count": 25,
      "metadata": {
        "colab": {
          "base_uri": "https://localhost:8080/"
        },
        "id": "mGduyPTpy_ee",
        "outputId": "ea32ba72-c3c0-4085-818f-3f277c845c38"
      },
      "outputs": [
        {
          "output_type": "stream",
          "name": "stdout",
          "text": [
            "                                           sentences  label  \\\n",
            "0  Sebelumnya itu lebih baik dari pada setelah di...     -1   \n",
            "1  Lebih baik pelayanan tokopedia yg dulu daripad...     -1   \n",
            "2  Aplikasi apaan ini, kemarin saya rendem giftca...     -1   \n",
            "3  Ini aplikasi apa sih? Kok saya minta bantuan g...     -1   \n",
            "4                       Barang-barangnya bagus semua     -1   \n",
            "\n",
            "                                           processed  score  sentimen  \\\n",
            "0                                                NaN    2.0       0.0   \n",
            "1                                                NaN    1.0       0.0   \n",
            "2                                                NaN    1.0       0.0   \n",
            "3  aplikasi meminta bantuan respon menyelesaikan ...    NaN       NaN   \n",
            "4                                                NaN    3.0       0.0   \n",
            "\n",
            "                                       content_clean project_ending  rating  \n",
            "0                                  update cek ongkir            NaN     NaN  \n",
            "1  layan tokopedia aju batal pesan aju batal toko...            NaN     NaN  \n",
            "2  aplikasi kemarin rendem giftcard poin ovo hapu...            NaN     NaN  \n",
            "3                                                NaN            NaN     NaN  \n",
            "4                                barang barang bagus            NaN     NaN  \n",
            "sentences         7104\n",
            "label             7104\n",
            "processed          811\n",
            "score             6000\n",
            "sentimen          6000\n",
            "content_clean     5654\n",
            "project_ending       0\n",
            "rating               0\n",
            "dtype: int64\n"
          ]
        }
      ],
      "source": [
        "print(df_gabung.head())\n",
        "print(df_gabung.count())"
      ]
    },
    {
      "cell_type": "code",
      "execution_count": 26,
      "metadata": {
        "colab": {
          "base_uri": "https://localhost:8080/"
        },
        "id": "w0XOf84DZGGw",
        "outputId": "938b4809-7234-4b53-86a9-b41d5dc80a41"
      },
      "outputs": [
        {
          "output_type": "execute_result",
          "data": {
            "text/plain": [
              "label\n",
              "-1    3830\n",
              " 1    3199\n",
              " 0      75\n",
              "Name: count, dtype: int64"
            ]
          },
          "metadata": {},
          "execution_count": 26
        }
      ],
      "source": [
        "df['label'].value_counts()"
      ]
    },
    {
      "cell_type": "code",
      "execution_count": 27,
      "metadata": {
        "colab": {
          "base_uri": "https://localhost:8080/"
        },
        "id": "YT18gdqCnzY_",
        "outputId": "e65163ec-b275-41a9-b5c7-57080108e11d"
      },
      "outputs": [
        {
          "output_type": "execute_result",
          "data": {
            "text/plain": [
              "sentences          object\n",
              "label               int64\n",
              "processed          object\n",
              "score             float64\n",
              "sentimen          float64\n",
              "content_clean      object\n",
              "project_ending     object\n",
              "rating            float64\n",
              "dtype: object"
            ]
          },
          "metadata": {},
          "execution_count": 27
        }
      ],
      "source": [
        "df.dtypes"
      ]
    },
    {
      "cell_type": "markdown",
      "metadata": {
        "id": "GC035qXqsJOM"
      },
      "source": [
        "# **PRA_PEMROSESAN DATA**"
      ]
    },
    {
      "cell_type": "code",
      "execution_count": 28,
      "metadata": {
        "id": "G_VbYBUFqvBN"
      },
      "outputs": [],
      "source": [
        "import re\n",
        "#menghapus RT\n",
        "df.sentences = df.sentences.str.replace(r'RT', '')\n",
        "#menghapus \\n\n",
        "df.sentences = df.sentences.str.replace(r'\\n', '')\n",
        "#menghapus link\n",
        "df.sentences = df.sentences.str.replace(r'https?:\\/\\/.*[\\r\\n]*',' ')\n",
        "#menghapus tanda mata uang dolar dll\n",
        "df.sentences = df.sentences.str.replace(r'\\$\\w*',' ')"
      ]
    },
    {
      "cell_type": "code",
      "execution_count": 29,
      "metadata": {
        "id": "NqPoQF40792r"
      },
      "outputs": [],
      "source": [
        "#lower case semua text\n",
        "df['sentences'] = df['sentences'].str.lower()"
      ]
    },
    {
      "cell_type": "code",
      "execution_count": 30,
      "metadata": {
        "colab": {
          "base_uri": "https://localhost:8080/",
          "height": 241
        },
        "id": "TsOBt5I4syQr",
        "outputId": "d39487ee-9312-4dee-c5af-b68087852e58"
      },
      "outputs": [
        {
          "output_type": "execute_result",
          "data": {
            "text/plain": [
              "                                              sentences  label  \\\n",
              "7099  apk yg bagus banget sangat² membantu saat kepe...      1   \n",
              "7100                             bagus sangat membantu😍      1   \n",
              "7101                                               good      1   \n",
              "7102                                     mantappp bener      1   \n",
              "7103  ternyata di sini banyak ulasan nya yg buruk ' ...     -1   \n",
              "\n",
              "                                              processed  score  sentimen  \\\n",
              "7099  aplikasi bagus banget membantu keperluan menda...    NaN       NaN   \n",
              "7100                                                NaN    5.0       1.0   \n",
              "7101                                                NaN    5.0       1.0   \n",
              "7102                                                NaN    5.0       1.0   \n",
              "7103                                                NaN    1.0       0.0   \n",
              "\n",
              "                     content_clean project_ending  rating  \n",
              "7099                           NaN            NaN     NaN  \n",
              "7100                   bagus bantu            NaN     NaN  \n",
              "7101                          good            NaN     NaN  \n",
              "7102                        mantap            NaN     NaN  \n",
              "7103  ulas buruk untung buka lapak            NaN     NaN  "
            ],
            "text/html": [
              "\n",
              "  <div id=\"df-44a02abd-3140-43fd-92a3-8e0d73105972\" class=\"colab-df-container\">\n",
              "    <div>\n",
              "<style scoped>\n",
              "    .dataframe tbody tr th:only-of-type {\n",
              "        vertical-align: middle;\n",
              "    }\n",
              "\n",
              "    .dataframe tbody tr th {\n",
              "        vertical-align: top;\n",
              "    }\n",
              "\n",
              "    .dataframe thead th {\n",
              "        text-align: right;\n",
              "    }\n",
              "</style>\n",
              "<table border=\"1\" class=\"dataframe\">\n",
              "  <thead>\n",
              "    <tr style=\"text-align: right;\">\n",
              "      <th></th>\n",
              "      <th>sentences</th>\n",
              "      <th>label</th>\n",
              "      <th>processed</th>\n",
              "      <th>score</th>\n",
              "      <th>sentimen</th>\n",
              "      <th>content_clean</th>\n",
              "      <th>project_ending</th>\n",
              "      <th>rating</th>\n",
              "    </tr>\n",
              "  </thead>\n",
              "  <tbody>\n",
              "    <tr>\n",
              "      <th>7099</th>\n",
              "      <td>apk yg bagus banget sangat² membantu saat kepe...</td>\n",
              "      <td>1</td>\n",
              "      <td>aplikasi bagus banget membantu keperluan menda...</td>\n",
              "      <td>NaN</td>\n",
              "      <td>NaN</td>\n",
              "      <td>NaN</td>\n",
              "      <td>NaN</td>\n",
              "      <td>NaN</td>\n",
              "    </tr>\n",
              "    <tr>\n",
              "      <th>7100</th>\n",
              "      <td>bagus sangat membantu😍</td>\n",
              "      <td>1</td>\n",
              "      <td>NaN</td>\n",
              "      <td>5.0</td>\n",
              "      <td>1.0</td>\n",
              "      <td>bagus bantu</td>\n",
              "      <td>NaN</td>\n",
              "      <td>NaN</td>\n",
              "    </tr>\n",
              "    <tr>\n",
              "      <th>7101</th>\n",
              "      <td>good</td>\n",
              "      <td>1</td>\n",
              "      <td>NaN</td>\n",
              "      <td>5.0</td>\n",
              "      <td>1.0</td>\n",
              "      <td>good</td>\n",
              "      <td>NaN</td>\n",
              "      <td>NaN</td>\n",
              "    </tr>\n",
              "    <tr>\n",
              "      <th>7102</th>\n",
              "      <td>mantappp bener</td>\n",
              "      <td>1</td>\n",
              "      <td>NaN</td>\n",
              "      <td>5.0</td>\n",
              "      <td>1.0</td>\n",
              "      <td>mantap</td>\n",
              "      <td>NaN</td>\n",
              "      <td>NaN</td>\n",
              "    </tr>\n",
              "    <tr>\n",
              "      <th>7103</th>\n",
              "      <td>ternyata di sini banyak ulasan nya yg buruk ' ...</td>\n",
              "      <td>-1</td>\n",
              "      <td>NaN</td>\n",
              "      <td>1.0</td>\n",
              "      <td>0.0</td>\n",
              "      <td>ulas buruk untung buka lapak</td>\n",
              "      <td>NaN</td>\n",
              "      <td>NaN</td>\n",
              "    </tr>\n",
              "  </tbody>\n",
              "</table>\n",
              "</div>\n",
              "    <div class=\"colab-df-buttons\">\n",
              "\n",
              "  <div class=\"colab-df-container\">\n",
              "    <button class=\"colab-df-convert\" onclick=\"convertToInteractive('df-44a02abd-3140-43fd-92a3-8e0d73105972')\"\n",
              "            title=\"Convert this dataframe to an interactive table.\"\n",
              "            style=\"display:none;\">\n",
              "\n",
              "  <svg xmlns=\"http://www.w3.org/2000/svg\" height=\"24px\" viewBox=\"0 -960 960 960\">\n",
              "    <path d=\"M120-120v-720h720v720H120Zm60-500h600v-160H180v160Zm220 220h160v-160H400v160Zm0 220h160v-160H400v160ZM180-400h160v-160H180v160Zm440 0h160v-160H620v160ZM180-180h160v-160H180v160Zm440 0h160v-160H620v160Z\"/>\n",
              "  </svg>\n",
              "    </button>\n",
              "\n",
              "  <style>\n",
              "    .colab-df-container {\n",
              "      display:flex;\n",
              "      gap: 12px;\n",
              "    }\n",
              "\n",
              "    .colab-df-convert {\n",
              "      background-color: #E8F0FE;\n",
              "      border: none;\n",
              "      border-radius: 50%;\n",
              "      cursor: pointer;\n",
              "      display: none;\n",
              "      fill: #1967D2;\n",
              "      height: 32px;\n",
              "      padding: 0 0 0 0;\n",
              "      width: 32px;\n",
              "    }\n",
              "\n",
              "    .colab-df-convert:hover {\n",
              "      background-color: #E2EBFA;\n",
              "      box-shadow: 0px 1px 2px rgba(60, 64, 67, 0.3), 0px 1px 3px 1px rgba(60, 64, 67, 0.15);\n",
              "      fill: #174EA6;\n",
              "    }\n",
              "\n",
              "    .colab-df-buttons div {\n",
              "      margin-bottom: 4px;\n",
              "    }\n",
              "\n",
              "    [theme=dark] .colab-df-convert {\n",
              "      background-color: #3B4455;\n",
              "      fill: #D2E3FC;\n",
              "    }\n",
              "\n",
              "    [theme=dark] .colab-df-convert:hover {\n",
              "      background-color: #434B5C;\n",
              "      box-shadow: 0px 1px 3px 1px rgba(0, 0, 0, 0.15);\n",
              "      filter: drop-shadow(0px 1px 2px rgba(0, 0, 0, 0.3));\n",
              "      fill: #FFFFFF;\n",
              "    }\n",
              "  </style>\n",
              "\n",
              "    <script>\n",
              "      const buttonEl =\n",
              "        document.querySelector('#df-44a02abd-3140-43fd-92a3-8e0d73105972 button.colab-df-convert');\n",
              "      buttonEl.style.display =\n",
              "        google.colab.kernel.accessAllowed ? 'block' : 'none';\n",
              "\n",
              "      async function convertToInteractive(key) {\n",
              "        const element = document.querySelector('#df-44a02abd-3140-43fd-92a3-8e0d73105972');\n",
              "        const dataTable =\n",
              "          await google.colab.kernel.invokeFunction('convertToInteractive',\n",
              "                                                    [key], {});\n",
              "        if (!dataTable) return;\n",
              "\n",
              "        const docLinkHtml = 'Like what you see? Visit the ' +\n",
              "          '<a target=\"_blank\" href=https://colab.research.google.com/notebooks/data_table.ipynb>data table notebook</a>'\n",
              "          + ' to learn more about interactive tables.';\n",
              "        element.innerHTML = '';\n",
              "        dataTable['output_type'] = 'display_data';\n",
              "        await google.colab.output.renderOutput(dataTable, element);\n",
              "        const docLink = document.createElement('div');\n",
              "        docLink.innerHTML = docLinkHtml;\n",
              "        element.appendChild(docLink);\n",
              "      }\n",
              "    </script>\n",
              "  </div>\n",
              "\n",
              "\n",
              "<div id=\"df-0f867223-aa6b-48e1-8f67-be83bfd853bc\">\n",
              "  <button class=\"colab-df-quickchart\" onclick=\"quickchart('df-0f867223-aa6b-48e1-8f67-be83bfd853bc')\"\n",
              "            title=\"Suggest charts\"\n",
              "            style=\"display:none;\">\n",
              "\n",
              "<svg xmlns=\"http://www.w3.org/2000/svg\" height=\"24px\"viewBox=\"0 0 24 24\"\n",
              "     width=\"24px\">\n",
              "    <g>\n",
              "        <path d=\"M19 3H5c-1.1 0-2 .9-2 2v14c0 1.1.9 2 2 2h14c1.1 0 2-.9 2-2V5c0-1.1-.9-2-2-2zM9 17H7v-7h2v7zm4 0h-2V7h2v10zm4 0h-2v-4h2v4z\"/>\n",
              "    </g>\n",
              "</svg>\n",
              "  </button>\n",
              "\n",
              "<style>\n",
              "  .colab-df-quickchart {\n",
              "      --bg-color: #E8F0FE;\n",
              "      --fill-color: #1967D2;\n",
              "      --hover-bg-color: #E2EBFA;\n",
              "      --hover-fill-color: #174EA6;\n",
              "      --disabled-fill-color: #AAA;\n",
              "      --disabled-bg-color: #DDD;\n",
              "  }\n",
              "\n",
              "  [theme=dark] .colab-df-quickchart {\n",
              "      --bg-color: #3B4455;\n",
              "      --fill-color: #D2E3FC;\n",
              "      --hover-bg-color: #434B5C;\n",
              "      --hover-fill-color: #FFFFFF;\n",
              "      --disabled-bg-color: #3B4455;\n",
              "      --disabled-fill-color: #666;\n",
              "  }\n",
              "\n",
              "  .colab-df-quickchart {\n",
              "    background-color: var(--bg-color);\n",
              "    border: none;\n",
              "    border-radius: 50%;\n",
              "    cursor: pointer;\n",
              "    display: none;\n",
              "    fill: var(--fill-color);\n",
              "    height: 32px;\n",
              "    padding: 0;\n",
              "    width: 32px;\n",
              "  }\n",
              "\n",
              "  .colab-df-quickchart:hover {\n",
              "    background-color: var(--hover-bg-color);\n",
              "    box-shadow: 0 1px 2px rgba(60, 64, 67, 0.3), 0 1px 3px 1px rgba(60, 64, 67, 0.15);\n",
              "    fill: var(--button-hover-fill-color);\n",
              "  }\n",
              "\n",
              "  .colab-df-quickchart-complete:disabled,\n",
              "  .colab-df-quickchart-complete:disabled:hover {\n",
              "    background-color: var(--disabled-bg-color);\n",
              "    fill: var(--disabled-fill-color);\n",
              "    box-shadow: none;\n",
              "  }\n",
              "\n",
              "  .colab-df-spinner {\n",
              "    border: 2px solid var(--fill-color);\n",
              "    border-color: transparent;\n",
              "    border-bottom-color: var(--fill-color);\n",
              "    animation:\n",
              "      spin 1s steps(1) infinite;\n",
              "  }\n",
              "\n",
              "  @keyframes spin {\n",
              "    0% {\n",
              "      border-color: transparent;\n",
              "      border-bottom-color: var(--fill-color);\n",
              "      border-left-color: var(--fill-color);\n",
              "    }\n",
              "    20% {\n",
              "      border-color: transparent;\n",
              "      border-left-color: var(--fill-color);\n",
              "      border-top-color: var(--fill-color);\n",
              "    }\n",
              "    30% {\n",
              "      border-color: transparent;\n",
              "      border-left-color: var(--fill-color);\n",
              "      border-top-color: var(--fill-color);\n",
              "      border-right-color: var(--fill-color);\n",
              "    }\n",
              "    40% {\n",
              "      border-color: transparent;\n",
              "      border-right-color: var(--fill-color);\n",
              "      border-top-color: var(--fill-color);\n",
              "    }\n",
              "    60% {\n",
              "      border-color: transparent;\n",
              "      border-right-color: var(--fill-color);\n",
              "    }\n",
              "    80% {\n",
              "      border-color: transparent;\n",
              "      border-right-color: var(--fill-color);\n",
              "      border-bottom-color: var(--fill-color);\n",
              "    }\n",
              "    90% {\n",
              "      border-color: transparent;\n",
              "      border-bottom-color: var(--fill-color);\n",
              "    }\n",
              "  }\n",
              "</style>\n",
              "\n",
              "  <script>\n",
              "    async function quickchart(key) {\n",
              "      const quickchartButtonEl =\n",
              "        document.querySelector('#' + key + ' button');\n",
              "      quickchartButtonEl.disabled = true;  // To prevent multiple clicks.\n",
              "      quickchartButtonEl.classList.add('colab-df-spinner');\n",
              "      try {\n",
              "        const charts = await google.colab.kernel.invokeFunction(\n",
              "            'suggestCharts', [key], {});\n",
              "      } catch (error) {\n",
              "        console.error('Error during call to suggestCharts:', error);\n",
              "      }\n",
              "      quickchartButtonEl.classList.remove('colab-df-spinner');\n",
              "      quickchartButtonEl.classList.add('colab-df-quickchart-complete');\n",
              "    }\n",
              "    (() => {\n",
              "      let quickchartButtonEl =\n",
              "        document.querySelector('#df-0f867223-aa6b-48e1-8f67-be83bfd853bc button');\n",
              "      quickchartButtonEl.style.display =\n",
              "        google.colab.kernel.accessAllowed ? 'block' : 'none';\n",
              "    })();\n",
              "  </script>\n",
              "</div>\n",
              "\n",
              "    </div>\n",
              "  </div>\n"
            ],
            "application/vnd.google.colaboratory.intrinsic+json": {
              "type": "dataframe",
              "repr_error": "0"
            }
          },
          "metadata": {},
          "execution_count": 30
        }
      ],
      "source": [
        "#melihat 5 data paling bawah\n",
        "df.tail()"
      ]
    },
    {
      "cell_type": "code",
      "execution_count": 31,
      "metadata": {
        "colab": {
          "base_uri": "https://localhost:8080/"
        },
        "id": "G5lob3FUrb5b",
        "outputId": "d8d7e304-5051-4a09-b313-b3e5bd0b4c58"
      },
      "outputs": [
        {
          "output_type": "execute_result",
          "data": {
            "text/plain": [
              "sentences         lebih baik pelayanan tokopedia yg dulu daripad...\n",
              "label                                                            -1\n",
              "processed                                                       NaN\n",
              "score                                                           1.0\n",
              "sentimen                                                        0.0\n",
              "content_clean     layan tokopedia aju batal pesan aju batal toko...\n",
              "project_ending                                                  NaN\n",
              "rating                                                          NaN\n",
              "Name: 1, dtype: object"
            ]
          },
          "metadata": {},
          "execution_count": 31
        }
      ],
      "source": [
        "#melihat isi tweet pertama\n",
        "df.iloc[1]"
      ]
    },
    {
      "cell_type": "markdown",
      "metadata": {
        "id": "TXJ8wpHdatRL"
      },
      "source": [
        "# **SPLIT THE DATA**"
      ]
    },
    {
      "cell_type": "code",
      "execution_count": 32,
      "metadata": {
        "colab": {
          "base_uri": "https://localhost:8080/"
        },
        "id": "aiapSroCa1lH",
        "outputId": "2d2367e5-b44b-4ee7-8ede-02dc2a55216b"
      },
      "outputs": [
        {
          "output_type": "stream",
          "name": "stdout",
          "text": [
            "There are 7104 sentences and 7104 labels after random sampling\n",
            "\n"
          ]
        }
      ],
      "source": [
        "import random  # Menambahkan impor modul random\n",
        "\n",
        "MAX_EXAMPLE = df['sentences'].count()\n",
        "sentences_and_labels = list(zip(df['sentences'], df['label']))\n",
        "\n",
        "random.seed(32)\n",
        "sentences_and_labels = random.sample(sentences_and_labels, MAX_EXAMPLE)\n",
        "\n",
        "df['sentences'], df['label'] = zip(*sentences_and_labels)\n",
        "\n",
        "print(f\"There are {len(df['sentences'])} sentences and {len(df['label'])} labels after random sampling\\n\")"
      ]
    },
    {
      "cell_type": "code",
      "execution_count": 33,
      "metadata": {
        "id": "YEg9iXBSf8yw"
      },
      "outputs": [],
      "source": [
        "def train_val_split(sentences, labels, training_split):\n",
        "  train_size = int(len(sentences) * training_split)\n",
        "\n",
        "  # Split the sentences and labels into train/validation splits\n",
        "  train_sentences = sentences[:train_size]\n",
        "  train_labels = labels[:train_size]\n",
        "\n",
        "  validation_sentences = sentences[train_size:]\n",
        "  validation_labels = labels[train_size:]\n",
        "\n",
        "  return train_sentences, validation_sentences, train_labels, validation_labels"
      ]
    },
    {
      "cell_type": "code",
      "execution_count": 34,
      "metadata": {
        "colab": {
          "base_uri": "https://localhost:8080/"
        },
        "id": "RSqqN4bXgwc1",
        "outputId": "79394206-65e9-42e8-98b5-52eff10a9571"
      },
      "outputs": [
        {
          "output_type": "stream",
          "name": "stdout",
          "text": [
            "There are 5683 sentences for training.\n",
            "\n",
            "There are 5683 labels for training.\n",
            "\n",
            "There are 1421 sentences for validation.\n",
            "\n",
            "There are 1421 labels for validation.\n"
          ]
        }
      ],
      "source": [
        "TRAINING_SPLIT = 0.8\n",
        "train_sentences, val_sentences, train_labels, val_labels = train_val_split(df['sentences'], df['label'], TRAINING_SPLIT)\n",
        "\n",
        "print(f\"There are {len(train_sentences)} sentences for training.\\n\")\n",
        "print(f\"There are {len(train_labels)} labels for training.\\n\")\n",
        "print(f\"There are {len(val_sentences)} sentences for validation.\\n\")\n",
        "print(f\"There are {len(val_labels)} labels for validation.\")"
      ]
    },
    {
      "cell_type": "code",
      "execution_count": 35,
      "metadata": {
        "id": "tZJql8G1MV4X"
      },
      "outputs": [],
      "source": [
        "from tensorflow.keras.utils import to_categorical\n",
        "encoded_labels = to_categorical(train_labels, num_classes=3)"
      ]
    },
    {
      "cell_type": "markdown",
      "metadata": {
        "id": "DvL8Amv3hhoG"
      },
      "source": [
        "# **TOKENIZATION - SEQUENCES, TRUNCATE, AND, PADDING**"
      ]
    },
    {
      "cell_type": "code",
      "execution_count": 36,
      "metadata": {
        "id": "jETrNATWh2Oa"
      },
      "outputs": [],
      "source": [
        "def fit_tokenizer(train_sentences, oov_token):\n",
        "  tokenizer = Tokenizer(oov_token=oov_token)\n",
        "  tokenizer.fit_on_texts(train_sentences)\n",
        "\n",
        "  return tokenizer"
      ]
    },
    {
      "cell_type": "code",
      "execution_count": 37,
      "metadata": {
        "colab": {
          "base_uri": "https://localhost:8080/"
        },
        "id": "65cHas6ClADQ",
        "outputId": "c623b0cf-7880-4c28-9d4d-7ac89c6802e2"
      },
      "outputs": [
        {
          "output_type": "stream",
          "name": "stdout",
          "text": [
            "Vocabulary contains 8654 words\n",
            "\n",
            "<OOV> token included in vocabulary\n",
            "\n",
            "index of word 'aku' should be 910\n"
          ]
        }
      ],
      "source": [
        "tokenizer = fit_tokenizer(train_sentences, OOV_TOKEN )\n",
        "\n",
        "word_index = tokenizer.word_index\n",
        "VOCAB_SIZE = len(word_index)\n",
        "\n",
        "print(f\"Vocabulary contains {VOCAB_SIZE} words\\n\")\n",
        "print(\"<OOV> token included in vocabulary\" if \"<OOV>\" in word_index else \"<OOV> token NOT included in vocabulary\")\n",
        "print(f\"\\nindex of word 'aku' should be {word_index['adalah']}\")"
      ]
    },
    {
      "cell_type": "code",
      "execution_count": 38,
      "metadata": {
        "id": "vh0J2znyQQz8"
      },
      "outputs": [],
      "source": [
        "df[\"sentence_length\"] = df[\"sentences\"].apply(len)"
      ]
    },
    {
      "cell_type": "code",
      "execution_count": 39,
      "metadata": {
        "colab": {
          "base_uri": "https://localhost:8080/"
        },
        "id": "nSVPlvqGQXft",
        "outputId": "2d87ee4c-26cb-41c2-bfb7-bc34d340654f"
      },
      "outputs": [
        {
          "output_type": "stream",
          "name": "stdout",
          "text": [
            "count    7104.000000\n",
            "mean       93.301661\n",
            "std       110.037357\n",
            "min         1.000000\n",
            "25%        15.000000\n",
            "50%        48.000000\n",
            "75%       133.000000\n",
            "max      1014.000000\n",
            "Name: sentence_length, dtype: float64\n"
          ]
        }
      ],
      "source": [
        "print(df[\"sentence_length\"].describe())"
      ]
    },
    {
      "cell_type": "code",
      "execution_count": 40,
      "metadata": {
        "id": "ZxmSyztypVBw"
      },
      "outputs": [],
      "source": [
        "EMBEDDING_DIM = 360\n",
        "MAXLEN = 200\n",
        "TRUNCATING = 'post'\n",
        "PADDING = 'post'"
      ]
    },
    {
      "cell_type": "code",
      "execution_count": 41,
      "metadata": {
        "id": "eyL0mxyZozzB"
      },
      "outputs": [],
      "source": [
        "def seq_pad_and_trunc(sentences, tokenizer, padding, truncating, maxlen):\n",
        "  sequences = tokenizer.texts_to_sequences(sentences)\n",
        "  pad_trunc_sequences = pad_sequences(sequences, padding=PADDING, truncating=TRUNCATING, maxlen=MAXLEN)\n",
        "\n",
        "  return pad_trunc_sequences"
      ]
    },
    {
      "cell_type": "code",
      "execution_count": 42,
      "metadata": {
        "colab": {
          "base_uri": "https://localhost:8080/"
        },
        "id": "opBDoBNsqMcb",
        "outputId": "53a34388-8b72-4c2a-b7c7-5b1053521b88"
      },
      "outputs": [
        {
          "output_type": "stream",
          "name": "stdout",
          "text": [
            "Padded and truncated training sequences have shape: (5683, 200)\n",
            "\n",
            "Padded and truncated validation sequences have shape: (1421, 200)\n"
          ]
        }
      ],
      "source": [
        "train_pad_trunc_seq = seq_pad_and_trunc(train_sentences, tokenizer, PADDING, TRUNCATING, MAXLEN)\n",
        "val_pad_trunc_seq = seq_pad_and_trunc(val_sentences, tokenizer, PADDING, TRUNCATING, MAXLEN)\n",
        "\n",
        "print(f\"Padded and truncated training sequences have shape: {train_pad_trunc_seq.shape}\\n\")\n",
        "print(f\"Padded and truncated validation sequences have shape: {val_pad_trunc_seq.shape}\")"
      ]
    },
    {
      "cell_type": "code",
      "execution_count": 43,
      "metadata": {
        "id": "BvKrWRiDPOVW"
      },
      "outputs": [],
      "source": [
        "# One-hot encode labels\n",
        "train_labels = to_categorical(train_labels, num_classes=3)\n",
        "val_labels = to_categorical(val_labels, num_classes=3)"
      ]
    },
    {
      "cell_type": "markdown",
      "metadata": {
        "id": "WjebDLhZ55_z"
      },
      "source": [
        "# **DEPLOY MODEL**"
      ]
    },
    {
      "cell_type": "code",
      "execution_count": 44,
      "metadata": {
        "id": "-k2OX-F8q036"
      },
      "outputs": [],
      "source": [
        "optimizer = tf.keras.optimizers.Adam(learning_rate=0.00002)\n",
        "\n",
        "def create_model(vocab_size, embedding_dim, maxlen):\n",
        "    model = tf.keras.Sequential([\n",
        "        tf.keras.layers.Embedding(VOCAB_SIZE + 1, EMBEDDING_DIM, input_length=MAXLEN),\n",
        "        tf.keras.layers.Conv1D(filters=128, kernel_size=3, activation='relu', kernel_regularizer=tf.keras.regularizers.l2(0.01)),\n",
        "        tf.keras.layers.MaxPooling1D(pool_size=4),\n",
        "        tf.keras.layers.Bidirectional(tf.keras.layers.LSTM(128)),\n",
        "        tf.keras.layers.Dense(128, activation='relu'),\n",
        "        tf.keras.layers.Dense(64, activation='relu'),\n",
        "        tf.keras.layers.Dense(32, activation='relu'),\n",
        "        tf.keras.layers.Dropout(0.5),\n",
        "        tf.keras.layers.Dense(3, activation='softmax')  # Ubah jumlah neuron output menjadi 3 (positif, negatif, netral)\n",
        "    ])\n",
        "\n",
        "    model.compile(loss='categorical_crossentropy',\n",
        "                  optimizer=optimizer,\n",
        "                  metrics=['accuracy'])\n",
        "\n",
        "    return model"
      ]
    },
    {
      "cell_type": "code",
      "execution_count": 45,
      "metadata": {
        "colab": {
          "base_uri": "https://localhost:8080/"
        },
        "id": "PBIBCYufOZU6",
        "outputId": "f3ac22d6-5661-4fa2-b23f-1ea1f26ef841"
      },
      "outputs": [
        {
          "output_type": "stream",
          "name": "stdout",
          "text": [
            "Model: \"sequential\"\n",
            "_________________________________________________________________\n",
            " Layer (type)                Output Shape              Param #   \n",
            "=================================================================\n",
            " embedding (Embedding)       (None, 200, 360)          3115800   \n",
            "                                                                 \n",
            " conv1d (Conv1D)             (None, 198, 128)          138368    \n",
            "                                                                 \n",
            " max_pooling1d (MaxPooling1  (None, 49, 128)           0         \n",
            " D)                                                              \n",
            "                                                                 \n",
            " bidirectional (Bidirection  (None, 256)               263168    \n",
            " al)                                                             \n",
            "                                                                 \n",
            " dense (Dense)               (None, 128)               32896     \n",
            "                                                                 \n",
            " dense_1 (Dense)             (None, 64)                8256      \n",
            "                                                                 \n",
            " dense_2 (Dense)             (None, 32)                2080      \n",
            "                                                                 \n",
            " dropout (Dropout)           (None, 32)                0         \n",
            "                                                                 \n",
            " dense_3 (Dense)             (None, 3)                 99        \n",
            "                                                                 \n",
            "=================================================================\n",
            "Total params: 3560667 (13.58 MB)\n",
            "Trainable params: 3560667 (13.58 MB)\n",
            "Non-trainable params: 0 (0.00 Byte)\n",
            "_________________________________________________________________\n"
          ]
        }
      ],
      "source": [
        "model = create_model(VOCAB_SIZE,EMBEDDING_DIM,MAXLEN)\n",
        "model.summary()"
      ]
    },
    {
      "cell_type": "code",
      "execution_count": 46,
      "metadata": {
        "id": "XtvtI23zHXgF"
      },
      "outputs": [],
      "source": [
        "from tensorflow.keras.callbacks import EarlyStopping\n",
        "early_stopping = EarlyStopping(monitor='val_loss', patience=5)  # Monitor validation loss for early stopping\n"
      ]
    },
    {
      "cell_type": "code",
      "execution_count": 47,
      "metadata": {
        "colab": {
          "base_uri": "https://localhost:8080/"
        },
        "id": "knMEk1lSS1aJ",
        "outputId": "2d4ba39f-e335-4131-8c7d-64b6a52c34be"
      },
      "outputs": [
        {
          "output_type": "stream",
          "name": "stdout",
          "text": [
            "Epoch 1/20\n",
            "178/178 [==============================] - 31s 125ms/step - loss: 2.7512 - accuracy: 0.5207 - val_loss: 2.3957 - val_accuracy: 0.5440\n",
            "Epoch 2/20\n",
            "178/178 [==============================] - 11s 61ms/step - loss: 2.2944 - accuracy: 0.5436 - val_loss: 2.0865 - val_accuracy: 0.6960\n",
            "Epoch 3/20\n",
            "178/178 [==============================] - 7s 41ms/step - loss: 2.0346 - accuracy: 0.5791 - val_loss: 1.8403 - val_accuracy: 0.7122\n",
            "Epoch 4/20\n",
            "178/178 [==============================] - 5s 30ms/step - loss: 1.7921 - accuracy: 0.6331 - val_loss: 1.6204 - val_accuracy: 0.7277\n",
            "Epoch 5/20\n",
            "178/178 [==============================] - 5s 27ms/step - loss: 1.5972 - accuracy: 0.6715 - val_loss: 1.4498 - val_accuracy: 0.7291\n",
            "Epoch 6/20\n",
            "178/178 [==============================] - 3s 16ms/step - loss: 1.4377 - accuracy: 0.7051 - val_loss: 1.3029 - val_accuracy: 0.7495\n",
            "Epoch 7/20\n",
            "178/178 [==============================] - 4s 20ms/step - loss: 1.3040 - accuracy: 0.7149 - val_loss: 1.1732 - val_accuracy: 0.7713\n",
            "Epoch 8/20\n",
            "178/178 [==============================] - 5s 29ms/step - loss: 1.1704 - accuracy: 0.7482 - val_loss: 1.0632 - val_accuracy: 0.7847\n",
            "Epoch 9/20\n",
            "178/178 [==============================] - 3s 16ms/step - loss: 1.0590 - accuracy: 0.7799 - val_loss: 0.9569 - val_accuracy: 0.8100\n",
            "Epoch 10/20\n",
            "178/178 [==============================] - 3s 16ms/step - loss: 0.9577 - accuracy: 0.8077 - val_loss: 0.8691 - val_accuracy: 0.8367\n",
            "Epoch 11/20\n",
            "178/178 [==============================] - 3s 15ms/step - loss: 0.8685 - accuracy: 0.8355 - val_loss: 0.8003 - val_accuracy: 0.8614\n",
            "Epoch 12/20\n",
            "178/178 [==============================] - 4s 20ms/step - loss: 0.7876 - accuracy: 0.8536 - val_loss: 0.7407 - val_accuracy: 0.8628\n",
            "Epoch 13/20\n",
            "178/178 [==============================] - 3s 14ms/step - loss: 0.7305 - accuracy: 0.8631 - val_loss: 0.6954 - val_accuracy: 0.8628\n",
            "Epoch 14/20\n",
            "178/178 [==============================] - 3s 14ms/step - loss: 0.6743 - accuracy: 0.8781 - val_loss: 0.6609 - val_accuracy: 0.8578\n",
            "Epoch 15/20\n",
            "178/178 [==============================] - 2s 13ms/step - loss: 0.6385 - accuracy: 0.8870 - val_loss: 0.6656 - val_accuracy: 0.8346\n",
            "Epoch 16/20\n",
            "178/178 [==============================] - 2s 14ms/step - loss: 0.5920 - accuracy: 0.8965 - val_loss: 0.6111 - val_accuracy: 0.8571\n",
            "Epoch 17/20\n",
            "178/178 [==============================] - 4s 22ms/step - loss: 0.5599 - accuracy: 0.9002 - val_loss: 0.5934 - val_accuracy: 0.8543\n",
            "Epoch 18/20\n",
            "178/178 [==============================] - 3s 14ms/step - loss: 0.5261 - accuracy: 0.9103 - val_loss: 0.5738 - val_accuracy: 0.8550\n",
            "Epoch 19/20\n",
            "178/178 [==============================] - 2s 14ms/step - loss: 0.4952 - accuracy: 0.9150 - val_loss: 0.5573 - val_accuracy: 0.8564\n",
            "Epoch 20/20\n",
            "178/178 [==============================] - 2s 13ms/step - loss: 0.4757 - accuracy: 0.9220 - val_loss: 0.5499 - val_accuracy: 0.8557\n"
          ]
        }
      ],
      "source": [
        "history = model.fit(train_pad_trunc_seq, encoded_labels, epochs=20, validation_data=(val_pad_trunc_seq, val_labels), callbacks=[early_stopping])"
      ]
    },
    {
      "cell_type": "code",
      "execution_count": 48,
      "metadata": {
        "id": "sGGs_lomUcNB"
      },
      "outputs": [],
      "source": [
        "import matplotlib.pyplot as plt\n",
        "from scipy.stats import linregress"
      ]
    },
    {
      "cell_type": "code",
      "execution_count": 49,
      "metadata": {
        "colab": {
          "base_uri": "https://localhost:8080/",
          "height": 472
        },
        "id": "XC54QhCEUYZW",
        "outputId": "9d035e14-962c-4879-a373-bea7f019749b"
      },
      "outputs": [
        {
          "output_type": "display_data",
          "data": {
            "text/plain": [
              "<Figure size 640x480 with 1 Axes>"
            ],
            "image/png": "[encoded data removed]"
          },
          "metadata": {}
        }
      ],
      "source": [
        "loss = history.history['loss']\n",
        "val_loss = history.history['val_loss']\n",
        "\n",
        "epochs = range(len(loss))\n",
        "\n",
        "plt.plot(epochs, loss, 'r')\n",
        "plt.plot(epochs, val_loss, 'b')\n",
        "plt.title('Training and validation loss')\n",
        "plt.xlabel(\"Epochs\")\n",
        "plt.ylabel(\"Loss\")\n",
        "plt.legend([\"Loss\", \"Validation Loss\"])\n",
        "plt.show()"
      ]
    },
    {
      "cell_type": "code",
      "execution_count": 50,
      "metadata": {
        "colab": {
          "base_uri": "https://localhost:8080/",
          "height": 472
        },
        "id": "bISBBlxnVaUT",
        "outputId": "b327d076-5e23-47eb-c227-477fc7dcba78"
      },
      "outputs": [
        {
          "output_type": "display_data",
          "data": {
            "text/plain": [
              "<Figure size 640x480 with 1 Axes>"
            ],
            "image/png": "[encoded data removed]"
          },
          "metadata": {}
        }
      ],
      "source": [
        "# grader-required-cell\n",
        "\n",
        "acc = history.history['accuracy']\n",
        "val_acc = history.history['val_accuracy']\n",
        "\n",
        "#------------------------------------------------\n",
        "# Plot training and validation accuracy per epoch\n",
        "#------------------------------------------------\n",
        "plt.plot(epochs, acc, 'r')\n",
        "plt.plot(epochs, val_acc, 'b')\n",
        "plt.title('Training and validation accuracy')\n",
        "plt.xlabel(\"Epochs\")\n",
        "plt.ylabel(\"Accuracy\")\n",
        "plt.legend([\"Accuracy\", \"Validation Accuracy\"])\n",
        "plt.show()"
      ]
    },
    {
      "cell_type": "code",
      "execution_count": 51,
      "metadata": {
        "colab": {
          "base_uri": "https://localhost:8080/"
        },
        "id": "Ygnfw8aztvax",
        "outputId": "88ee9fe9-3a46-4d17-f9e3-10e15ebd9e05"
      },
      "outputs": [
        {
          "output_type": "stream",
          "name": "stdout",
          "text": [
            "Training Accuracy: 0.922\n",
            "Validation Accuracy: 0.863\n"
          ]
        }
      ],
      "source": [
        "print(f\"Training Accuracy: {max(acc):.3f}\")\n",
        "print(f\"Validation Accuracy: {max(val_acc):.3f}\")"
      ]
    },
    {
      "cell_type": "code",
      "execution_count": 52,
      "metadata": {
        "colab": {
          "base_uri": "https://localhost:8080/"
        },
        "id": "rHtFzuz1tuFb",
        "outputId": "8c583c4b-e925-44b7-ad68-7ec5652d94ae"
      },
      "outputs": [
        {
          "output_type": "stream",
          "name": "stdout",
          "text": [
            "45/45 [==============================] - 1s 4ms/step\n",
            "Precision: 0.856\n",
            "Recall: 0.856\n",
            "F1-score: 0.856\n"
          ]
        }
      ],
      "source": [
        "from sklearn.metrics import precision_score, recall_score, f1_score\n",
        "\n",
        "# Assuming you have predicted labels for your validation data\n",
        "y_pred = model.predict(val_pad_trunc_seq)  # Replace with your prediction method\n",
        "y_true = val_labels.argmax(axis=1)  # Assuming your labels are one-hot encoded\n",
        "\n",
        "# 'micro': Averages across all classes\n",
        "precision = precision_score(y_true, y_pred.argmax(axis=1), average='micro')\n",
        "recall = recall_score(y_true, y_pred.argmax(axis=1), average='micro')\n",
        "f1 = f1_score(y_true, y_pred.argmax(axis=1), average='micro')\n",
        "\n",
        "print(f\"Precision: {precision:.3f}\")\n",
        "print(f\"Recall: {recall:.3f}\")\n",
        "print(f\"F1-score: {f1:.3f}\")"
      ]
    },
    {
      "cell_type": "markdown",
      "metadata": {
        "id": "BIaM-j8bq7RE"
      },
      "source": [
        "## **PREDICT GENERATOR TEXT**"
      ]
    },
    {
      "cell_type": "code",
      "execution_count": 56,
      "metadata": {
        "id": "BaYxdVu5tZdk"
      },
      "outputs": [],
      "source": [
        "model.save('my_sentiment_model.keras')"
      ]
    },
    {
      "cell_type": "code",
      "source": [
        "import pickle\n",
        "\n",
        "# Save tokenizer to a file\n",
        "with open('tokenizer.pickle', 'wb') as handle:\n",
        "    pickle.dump(tokenizer, handle, protocol=pickle.HIGHEST_PROTOCOL)\n",
        "\n",
        "print(\"Tokenizer saved successfully.\")"
      ],
      "metadata": {
        "id": "upEctIYCmv-L"
      },
      "execution_count": null,
      "outputs": []
    },
    {
      "cell_type": "code",
      "execution_count": null,
      "metadata": {
        "id": "_fXi3TSDfSxq"
      },
      "outputs": [],
      "source": [
        "from tensorflow.keras.models import load_model\n",
        "\n",
        "loaded_model = load_model('my_sentiment_model.h5')"
      ]
    },
    {
      "cell_type": "code",
      "execution_count": null,
      "metadata": {
        "id": "rr_T6Uqntgto"
      },
      "outputs": [],
      "source": [
        "def preprocess_sentence(sentence):\n",
        "  \"\"\"Fungsi untuk memproses kalimat input.\n",
        "\n",
        "  Args:\n",
        "    sentence: Kalimat yang akan diproses.\n",
        "\n",
        "  Returns:\n",
        "    Urutan integer yang mewakili kalimat yang dipreproses.\n",
        "  \"\"\"\n",
        "  # Preprocessing steps (tokenization, padding, truncation)\n",
        "  tokens = tokenizer.texts_to_sequences([sentence])\n",
        "  pad_trunc_seq = pad_sequences(tokens, padding=PADDING, truncating=TRUNCATING, maxlen=MAXLEN)\n",
        "  return pad_trunc_seq[0]\n"
      ]
    },
    {
      "cell_type": "code",
      "execution_count": null,
      "metadata": {
        "id": "XuOs5XYFtojc"
      },
      "outputs": [],
      "source": [
        "sentence = input(\"Masukkan kalimat: \")\n",
        "preprocessed_sentence = preprocess_sentence(sentence)"
      ]
    },
    {
      "cell_type": "code",
      "execution_count": null,
      "metadata": {
        "id": "EiL2Bpu_trR0"
      },
      "outputs": [],
      "source": [
        "prediction = model.predict(np.expand_dims(preprocessed_sentence, axis=0))\n",
        "predicted_class = prediction.argmax(axis=1)[0]\n",
        "\n",
        "if predicted_class == 0:\n",
        "  print(\"Sentimen: Netral\")\n",
        "elif predicted_class == 1:\n",
        "  print(\"Sentimen: Positif\")\n",
        "else:\n",
        "  print(\"Sentimen: Negatif\")\n"
      ]
    },
    {
      "cell_type": "code",
      "source": [
        "df = pd.read_csv('comments.csv')\n",
        "df.head()"
      ],
      "metadata": {
        "id": "rjWtppyPjE4a"
      },
      "execution_count": null,
      "outputs": []
    },
    {
      "cell_type": "code",
      "execution_count": null,
      "metadata": {
        "id": "ZEj9lYo1lsaa"
      },
      "outputs": [],
      "source": [
        "# Function to preprocess sentence\n",
        "def preprocess_sentence(sentence):\n",
        "    \"\"\"Fungsi untuk memproses kalimat input.\n",
        "\n",
        "    Args:\n",
        "        sentence: Kalimat yang akan diproses.\n",
        "\n",
        "    Returns:\n",
        "        Urutan integer yang mewakili kalimat yang dipreproses.\n",
        "    \"\"\"\n",
        "    # Preprocessing steps (tokenization, padding, truncation)\n",
        "    tokens = tokenizer.texts_to_sequences([sentence])\n",
        "    pad_trunc_seq = pad_sequences(tokens, padding=PADDING, truncating=TRUNCATING, maxlen=MAXLEN)\n",
        "    return pad_trunc_seq[0]\n",
        "\n",
        "# Function to predict sentiment\n",
        "def predict_sentiment(sentences):\n",
        "    \"\"\"Fungsi untuk memprediksi sentimen dari beberapa kalimat.\n",
        "\n",
        "    Args:\n",
        "        sentences: Daftar kalimat.\n",
        "\n",
        "    Returns:\n",
        "        Daftar prediksi sentimen.\n",
        "    \"\"\"\n",
        "    preprocessed_sentences = [preprocess_sentence(sentence) for sentence in sentences]\n",
        "    predictions = model.predict(np.array(preprocessed_sentences))\n",
        "    predicted_classes = predictions.argmax(axis=1)\n",
        "    return predicted_classes\n",
        "\n",
        "# Load data\n",
        "data = pd.read_csv('comments.csv')\n",
        "data['text'] = data['text'].fillna('')\n",
        "sentences = data['text'].tolist()\n",
        "\n",
        "# Predict sentiment\n",
        "predicted_classes = predict_sentiment(sentences)\n",
        "\n",
        "# Print predictions\n",
        "for i, predicted_class in enumerate(predicted_classes):\n",
        "    if predicted_class == 0:\n",
        "        print(f\"Kalimat {i+1}: Sentimen: Netral\")\n",
        "    elif predicted_class == 1:\n",
        "        print(f\"Kalimat {i+1}: Sentimen: Positif\")\n",
        "    elif predicted_class == -1:\n",
        "        print(f\"Kalimat {i+1}: Sentimen: Negatif\")\n",
        "\n",
        "# Print predictions\n",
        "# for i, predicted_class in enumerate(predicted_classes):\n",
        "#     if predicted_class == 0:\n",
        "#         sentiment = \"Netral\"\n",
        "#     elif predicted_class == 1:\n",
        "#         sentiment = \"Positif\"\n",
        "#     else:\n",
        "#         sentiment = \"Negatif\"\n",
        "#     print(f\"Kalimat {i+1}: Sentimen: {sentiment}\")\n",
        "\n",
        "# Save predictions to CSV\n",
        "data['sentiment'] = predicted_classes\n",
        "data.to_excel('predicted_comments.xlsx', index=False)\n",
        "print(\"Prediksi sentimen telah disimpan di 'predicted_comments.csv'\")"
      ]
    },
    {
      "cell_type": "code",
      "execution_count": null,
      "metadata": {
        "id": "tQuudP5JSRoH"
      },
      "outputs": [],
      "source": [
        "# Function to predict sentiment (unchanged)\n",
        "def predict_sentiment(sentences):\n",
        "  \"\"\"Fungsi untuk memprediksi sentimen dari beberapa kalimat.\n",
        "\n",
        "  Args:\n",
        "      sentences: Daftar kalimat.\n",
        "\n",
        "  Returns:\n",
        "      Daftar prediksi sentimen.\n",
        "  \"\"\"\n",
        "  preprocessed_sentences = [preprocess_sentence(sentence) for sentence in sentences]\n",
        "  predictions = model.predict(np.array(preprocessed_sentences))\n",
        "  predicted_classes = predictions.argmax(axis=1)\n",
        "  return predicted_classes\n",
        "\n",
        "# Load data (unchanged)\n",
        "data = pd.read_excel('uji.xlsx')\n",
        "sentences = data['raw'].tolist()\n",
        "\n",
        "# Predict sentiment (unchanged)\n",
        "predicted_classes = predict_sentiment(sentences)\n",
        "\n",
        "# Count sentiment labels\n",
        "sentiment_counts = pd.Series(predicted_classes).value_counts()\n",
        "\n",
        "# Calculate percentages\n",
        "total_sentences = len(predicted_classes)\n",
        "sentiment_percentages = (sentiment_counts / total_sentences) * 100\n",
        "\n",
        "# Print sentiment distribution\n",
        "print(\"Distribusi Sentimen:\")\n",
        "print(sentiment_percentages.to_string())\n",
        "\n",
        "max_value = sentiment_percentages.max()\n",
        "max_label = sentiment_percentages.idxmax()\n",
        "\n",
        "# Print the sentiment label with the highest percentage\n",
        "print(f\"\\nSentimen Tertinggi: {max_label} ({max_value:.2f}%)\")\n",
        "print(\"\\n1:Positif 2:Negatif 0:Netral\")\n"
      ]
    }
  ],
  "metadata": {
    "accelerator": "GPU",
    "colab": {
      "provenance": []
    },
    "gpuClass": "standard",
    "kernelspec": {
      "display_name": "Python 3",
      "name": "python3"
    }
  },
  "nbformat": 4,
  "nbformat_minor": 0
}