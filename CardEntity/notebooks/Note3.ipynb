{
 "cells": [
  {
   "cell_type": "code",
   "execution_count": 1,
   "id": "13fd618d",
   "metadata": {},
   "outputs": [
    {
     "name": "stdout",
     "output_type": "stream",
     "text": [
      "SPACY biasa\n"
     ]
    }
   ],
   "source": [
    "print(\"SPACY biasa\")"
   ]
  },
  {
   "cell_type": "code",
   "execution_count": 7,
   "id": "9c1654ec",
   "metadata": {},
   "outputs": [
    {
     "name": "stdout",
     "output_type": "stream",
     "text": [
      "PROVINS  \n",
      "JAWA  \n",
      "TIMUR  \n",
      "KABUPATEN  \n",
      "JEMBER  \n",
      "NIK  \n",
      "35091901026  \n",
      "78604  \n",
      "Nama  \n",
      "Tempat  \n",
      "/  \n",
      "Tgt  \n",
      "Lahir  \n",
      "Jens  \n",
      "kelamin  \n",
      "FATCHUR  \n",
      "ROCHMAN  \n",
      "JEMBER  \n",
      ",  \n",
      "01  \n",
      "-  \n",
      "02  \n",
      "-  \n",
      "1967  \n",
      "LAKI-LAKI  \n",
      "Gol  \n",
      ".  \n",
      "Darah  \n",
      "GRAHA  \n",
      "CITRA  \n",
      "MAS  \n",
      "BLOK  \n",
      "INO  \n",
      "4  \n",
      "-  \n",
      "LINGK_GUMUK  \n",
      "BAGO  \n",
      ".  \n",
      "901  \n",
      "/  \n",
      "021  \n",
      "TEGALBESAR  \n",
      "KALIWATES  \n",
      "TISLAM  \n",
      "KAWIN  \n",
      "PEGAWAINEGERI  \n",
      "SIPIL  \n",
      "Es  \n",
      "PNS  \n",
      "16  \n",
      "-  \n",
      "04  \n",
      "-  \n",
      "2018  \n",
      "7  \n",
      "WNE  \n",
      "SEUMUR  \n",
      "HIDUP  \n",
      "a  \n",
      "jt  \n"
     ]
    }
   ],
   "source": [
    "import spacy\n",
    "\n",
    "# Memuat model bahasa Indonesia\n",
    "nlp = spacy.blank(\"id\")\n",
    "\n",
    "# Memproses teks\n",
    "doc = nlp(\"PROVINS JAWA TIMUR KABUPATEN JEMBER NIK 35091901026 78604 Nama Tempat/Tgt Lahir Jens kelamin FATCHUR ROCHMAN JEMBER, 01-02-1967 LAKI-LAKI Gol. Darah GRAHA CITRA MAS BLOK INO 4-LINGK_GUMUK BAGO. 901/021 TEGALBESAR KALIWATES TISLAM KAWIN PEGAWAINEGERI SIPIL Es PNS 16-04-2018 7 WNE SEUMUR HIDUP a jt\")\n",
    "\n",
    "# Menampilkan token\n",
    "for token in doc:\n",
    "    print(token.text, token.pos_, token.dep_)\n",
    "\n",
    "# Menampilkan entitas yang dikenal (jika ada)\n",
    "for ent in doc.ents:\n",
    "    print(ent.text, ent.label_)\n"
   ]
  },
  {
   "cell_type": "code",
   "execution_count": null,
   "id": "fdcecfff",
   "metadata": {},
   "outputs": [],
   "source": []
  }
 ],
 "metadata": {
  "kernelspec": {
   "display_name": "Python 3 (ipykernel)",
   "language": "python",
   "name": "python3"
  },
  "language_info": {
   "codemirror_mode": {
    "name": "ipython",
    "version": 3
   },
   "file_extension": ".py",
   "mimetype": "text/x-python",
   "name": "python",
   "nbconvert_exporter": "python",
   "pygments_lexer": "ipython3",
   "version": "3.11.5"
  }
 },
 "nbformat": 4,
 "nbformat_minor": 5
}
