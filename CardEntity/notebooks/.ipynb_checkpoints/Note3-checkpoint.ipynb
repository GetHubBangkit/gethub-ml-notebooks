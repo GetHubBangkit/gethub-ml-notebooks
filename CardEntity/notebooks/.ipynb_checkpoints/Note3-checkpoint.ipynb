{
 "cells": [
  {
   "cell_type": "code",
   "execution_count": 1,
   "id": "ba03bd73",
   "metadata": {},
   "outputs": [
    {
     "name": "stdout",
     "output_type": "stream",
     "text": [
      "SPACY biasa\n"
     ]
    }
   ],
   "source": [
    "print(\"SPACY biasa\")"
   ]
  },
  {
   "cell_type": "code",
   "execution_count": 5,
   "id": "d5eed53a",
   "metadata": {},
   "outputs": [
    {
     "name": "stdout",
     "output_type": "stream",
     "text": [
      "SpaCy  \n",
      "adalah  \n",
      "perpustakaan  \n",
      "NLP  \n",
      "yang  \n",
      "luar  \n",
      "biasa  \n",
      ".  \n"
     ]
    }
   ],
   "source": [
    "import spacy\n",
    "\n",
    "# Memuat model bahasa Indonesia\n",
    "nlp = spacy.blank(\"id\")\n",
    "\n",
    "# Memproses teks\n",
    "doc = nlp(\"PROVINS JAWA TIMUR KABUPATEN JEMBER NIK 35091901026 78604 Nama Tempat/Tgt Lahir Jens kelamin FATCHUR ROCHMAN JEMBER, 01-02-1967 LAKI-LAKI Gol. Darah GRAHA CITRA MAS BLOK INO 4-LINGK_GUMUK BAGO. 901/021 TEGALBESAR KALIWATES TISLAM KAWIN PEGAWAINEGERI SIPIL Es PNS 16-04-2018 7 WNE SEUMUR HIDUP a jt\")\n",
    "\n",
    "# Menampilkan token\n",
    "for token in doc:\n",
    "    print(token.text, token.pos_, token.dep_)\n",
    "\n",
    "# Menampilkan entitas yang dikenal (jika ada)\n",
    "for ent in doc.ents:\n",
    "    print(ent.text, ent.label_)\n"
   ]
  },
  {
   "cell_type": "code",
   "execution_count": null,
   "id": "179f6c6b",
   "metadata": {},
   "outputs": [],
   "source": []
  }
 ],
 "metadata": {
  "kernelspec": {
   "display_name": "Python 3 (ipykernel)",
   "language": "python",
   "name": "python3"
  },
  "language_info": {
   "codemirror_mode": {
    "name": "ipython",
    "version": 3
   },
   "file_extension": ".py",
   "mimetype": "text/x-python",
   "name": "python",
   "nbconvert_exporter": "python",
   "pygments_lexer": "ipython3",
   "version": "3.11.5"
  }
 },
 "nbformat": 4,
 "nbformat_minor": 5
}
